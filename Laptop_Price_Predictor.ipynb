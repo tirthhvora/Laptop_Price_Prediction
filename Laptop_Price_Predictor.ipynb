{
  "cells": [
    {
      "cell_type": "markdown",
      "metadata": {
        "id": "woe_42UmnlV1"
      },
      "source": [
        "Here we are importing two essential libraries NumPy and Pandas as alias np and pd respectively.\n"
      ]
    },
    {
      "cell_type": "code",
      "execution_count": 2,
      "metadata": {
        "id": "QkFKpHD6mcu3"
      },
      "outputs": [],
      "source": [
        "import numpy as np\n",
        "import pandas as pd\n",
        "import seaborn as sns"
      ]
    },
    {
      "cell_type": "markdown",
      "metadata": {
        "id": "0IQd432Gobj8"
      },
      "source": [
        "Next, we import the dataset using the Pandas' read_csv method, because our data is in the form of 'comma seperated values' file where ',' acts as a delimiter.\n",
        "\n",
        "We store the dataset in the form of DataFrame object in the df variable"
      ]
    },
    {
      "cell_type": "code",
      "execution_count": 3,
      "metadata": {
        "id": "DL3yvWwMnV_M"
      },
      "outputs": [],
      "source": [
        "df = pd.read_csv(\"C:/Users/hp India/Desktop/project_1/laptop_data.csv\")"
      ]
    },
    {
      "cell_type": "code",
      "execution_count": 4,
      "metadata": {
        "colab": {
          "base_uri": "https://localhost:8080/",
          "height": 388
        },
        "id": "_tTsyOO9ndNV",
        "outputId": "b0ec850a-b8dd-4725-ae29-41d2f9fd98fb"
      },
      "outputs": [
        {
          "data": {
            "text/html": [
              "<div>\n",
              "<style scoped>\n",
              "    .dataframe tbody tr th:only-of-type {\n",
              "        vertical-align: middle;\n",
              "    }\n",
              "\n",
              "    .dataframe tbody tr th {\n",
              "        vertical-align: top;\n",
              "    }\n",
              "\n",
              "    .dataframe thead th {\n",
              "        text-align: right;\n",
              "    }\n",
              "</style>\n",
              "<table border=\"1\" class=\"dataframe\">\n",
              "  <thead>\n",
              "    <tr style=\"text-align: right;\">\n",
              "      <th></th>\n",
              "      <th>Unnamed: 0</th>\n",
              "      <th>Company</th>\n",
              "      <th>TypeName</th>\n",
              "      <th>Inches</th>\n",
              "      <th>ScreenResolution</th>\n",
              "      <th>Cpu</th>\n",
              "      <th>Ram</th>\n",
              "      <th>Memory</th>\n",
              "      <th>Gpu</th>\n",
              "      <th>OpSys</th>\n",
              "      <th>Weight</th>\n",
              "      <th>Price</th>\n",
              "    </tr>\n",
              "  </thead>\n",
              "  <tbody>\n",
              "    <tr>\n",
              "      <th>0</th>\n",
              "      <td>0</td>\n",
              "      <td>Apple</td>\n",
              "      <td>Ultrabook</td>\n",
              "      <td>13.3</td>\n",
              "      <td>IPS Panel Retina Display 2560x1600</td>\n",
              "      <td>Intel Core i5 2.3GHz</td>\n",
              "      <td>8GB</td>\n",
              "      <td>128GB SSD</td>\n",
              "      <td>Intel Iris Plus Graphics 640</td>\n",
              "      <td>macOS</td>\n",
              "      <td>1.37kg</td>\n",
              "      <td>71378.6832</td>\n",
              "    </tr>\n",
              "    <tr>\n",
              "      <th>1</th>\n",
              "      <td>1</td>\n",
              "      <td>Apple</td>\n",
              "      <td>Ultrabook</td>\n",
              "      <td>13.3</td>\n",
              "      <td>1440x900</td>\n",
              "      <td>Intel Core i5 1.8GHz</td>\n",
              "      <td>8GB</td>\n",
              "      <td>128GB Flash Storage</td>\n",
              "      <td>Intel HD Graphics 6000</td>\n",
              "      <td>macOS</td>\n",
              "      <td>1.34kg</td>\n",
              "      <td>47895.5232</td>\n",
              "    </tr>\n",
              "    <tr>\n",
              "      <th>2</th>\n",
              "      <td>2</td>\n",
              "      <td>HP</td>\n",
              "      <td>Notebook</td>\n",
              "      <td>15.6</td>\n",
              "      <td>Full HD 1920x1080</td>\n",
              "      <td>Intel Core i5 7200U 2.5GHz</td>\n",
              "      <td>8GB</td>\n",
              "      <td>256GB SSD</td>\n",
              "      <td>Intel HD Graphics 620</td>\n",
              "      <td>No OS</td>\n",
              "      <td>1.86kg</td>\n",
              "      <td>30636.0000</td>\n",
              "    </tr>\n",
              "    <tr>\n",
              "      <th>3</th>\n",
              "      <td>3</td>\n",
              "      <td>Apple</td>\n",
              "      <td>Ultrabook</td>\n",
              "      <td>15.4</td>\n",
              "      <td>IPS Panel Retina Display 2880x1800</td>\n",
              "      <td>Intel Core i7 2.7GHz</td>\n",
              "      <td>16GB</td>\n",
              "      <td>512GB SSD</td>\n",
              "      <td>AMD Radeon Pro 455</td>\n",
              "      <td>macOS</td>\n",
              "      <td>1.83kg</td>\n",
              "      <td>135195.3360</td>\n",
              "    </tr>\n",
              "    <tr>\n",
              "      <th>4</th>\n",
              "      <td>4</td>\n",
              "      <td>Apple</td>\n",
              "      <td>Ultrabook</td>\n",
              "      <td>13.3</td>\n",
              "      <td>IPS Panel Retina Display 2560x1600</td>\n",
              "      <td>Intel Core i5 3.1GHz</td>\n",
              "      <td>8GB</td>\n",
              "      <td>256GB SSD</td>\n",
              "      <td>Intel Iris Plus Graphics 650</td>\n",
              "      <td>macOS</td>\n",
              "      <td>1.37kg</td>\n",
              "      <td>96095.8080</td>\n",
              "    </tr>\n",
              "  </tbody>\n",
              "</table>\n",
              "</div>"
            ],
            "text/plain": [
              "   Unnamed: 0 Company   TypeName  Inches                    ScreenResolution   \n",
              "0           0   Apple  Ultrabook    13.3  IPS Panel Retina Display 2560x1600  \\\n",
              "1           1   Apple  Ultrabook    13.3                            1440x900   \n",
              "2           2      HP   Notebook    15.6                   Full HD 1920x1080   \n",
              "3           3   Apple  Ultrabook    15.4  IPS Panel Retina Display 2880x1800   \n",
              "4           4   Apple  Ultrabook    13.3  IPS Panel Retina Display 2560x1600   \n",
              "\n",
              "                          Cpu   Ram               Memory   \n",
              "0        Intel Core i5 2.3GHz   8GB            128GB SSD  \\\n",
              "1        Intel Core i5 1.8GHz   8GB  128GB Flash Storage   \n",
              "2  Intel Core i5 7200U 2.5GHz   8GB            256GB SSD   \n",
              "3        Intel Core i7 2.7GHz  16GB            512GB SSD   \n",
              "4        Intel Core i5 3.1GHz   8GB            256GB SSD   \n",
              "\n",
              "                            Gpu  OpSys  Weight        Price  \n",
              "0  Intel Iris Plus Graphics 640  macOS  1.37kg   71378.6832  \n",
              "1        Intel HD Graphics 6000  macOS  1.34kg   47895.5232  \n",
              "2         Intel HD Graphics 620  No OS  1.86kg   30636.0000  \n",
              "3            AMD Radeon Pro 455  macOS  1.83kg  135195.3360  \n",
              "4  Intel Iris Plus Graphics 650  macOS  1.37kg   96095.8080  "
            ]
          },
          "execution_count": 4,
          "metadata": {},
          "output_type": "execute_result"
        }
      ],
      "source": [
        "df.head()"
      ]
    },
    {
      "cell_type": "markdown",
      "metadata": {
        "id": "8fw60j2Do869"
      },
      "source": [
        "Using head() method, we display the first 5 tuples of the dataset to get an overview of how the data looks like in the form of DataFrame object.\n",
        "\n",
        "We have attributes like:\n",
        "\n",
        "\n",
        "1.   Unnamed\n",
        "2.   Company\n",
        "3.   TypeName\n",
        "4.   Inches\n",
        "5.   Screen Resolution\n",
        "6.   CPU\n",
        "7.   Ram\n",
        "8.   Memory\n",
        "9.   GPU\n",
        "10.  OS\n",
        "11.  Weight\n",
        "12.  Price\n"
      ]
    },
    {
      "cell_type": "code",
      "execution_count": 5,
      "metadata": {
        "colab": {
          "base_uri": "https://localhost:8080/"
        },
        "id": "Ypy-EFM1nec5",
        "outputId": "10da5e3c-d485-4f5a-f482-4fde5f52bd6c"
      },
      "outputs": [
        {
          "data": {
            "text/plain": [
              "(1303, 12)"
            ]
          },
          "execution_count": 5,
          "metadata": {},
          "output_type": "execute_result"
        }
      ],
      "source": [
        "df.shape\n"
      ]
    },
    {
      "attachments": {},
      "cell_type": "markdown",
      "metadata": {
        "id": "54i3ZOrDq34q"
      },
      "source": [
        "We come to know that we have 1300 individual laptops with 12 features each in our dataset.\n",
        "Note that .shape is not a method, but an attribute of the dataframe object"
      ]
    },
    {
      "cell_type": "code",
      "execution_count": 6,
      "metadata": {
        "colab": {
          "base_uri": "https://localhost:8080/"
        },
        "id": "38-W0QETqo0m",
        "outputId": "d3122fa9-6f34-48a9-9c76-e85f032db27d"
      },
      "outputs": [
        {
          "name": "stdout",
          "output_type": "stream",
          "text": [
            "<class 'pandas.core.frame.DataFrame'>\n",
            "RangeIndex: 1303 entries, 0 to 1302\n",
            "Data columns (total 12 columns):\n",
            " #   Column            Non-Null Count  Dtype  \n",
            "---  ------            --------------  -----  \n",
            " 0   Unnamed: 0        1303 non-null   int64  \n",
            " 1   Company           1303 non-null   object \n",
            " 2   TypeName          1303 non-null   object \n",
            " 3   Inches            1303 non-null   float64\n",
            " 4   ScreenResolution  1303 non-null   object \n",
            " 5   Cpu               1303 non-null   object \n",
            " 6   Ram               1303 non-null   object \n",
            " 7   Memory            1303 non-null   object \n",
            " 8   Gpu               1303 non-null   object \n",
            " 9   OpSys             1303 non-null   object \n",
            " 10  Weight            1303 non-null   object \n",
            " 11  Price             1303 non-null   float64\n",
            "dtypes: float64(2), int64(1), object(9)\n",
            "memory usage: 122.3+ KB\n"
          ]
        }
      ],
      "source": [
        "df.info()"
      ]
    },
    {
      "cell_type": "markdown",
      "metadata": {
        "id": "wynS55v5rHTs"
      },
      "source": [
        "Here, we understand what the datatype of our elements in the DataFrame are.\n",
        "\n",
        "To perform Numerical computations, we need our elements to be of type integer or float.\n",
        "\n",
        "Hence we witness the need of preprocessing the data herein."
      ]
    },
    {
      "cell_type": "code",
      "execution_count": 7,
      "metadata": {
        "colab": {
          "base_uri": "https://localhost:8080/"
        },
        "id": "h9LM2kiWrGRY",
        "outputId": "4c583d64-75cd-419f-afb7-af3035baab1f"
      },
      "outputs": [
        {
          "data": {
            "text/plain": [
              "0"
            ]
          },
          "execution_count": 7,
          "metadata": {},
          "output_type": "execute_result"
        }
      ],
      "source": [
        "df.duplicated().sum()"
      ]
    },
    {
      "attachments": {},
      "cell_type": "markdown",
      "metadata": {
        "id": "JL4MZwOkr3O_"
      },
      "source": [
        "\n",
        "\n",
        "\n",
        "\n",
        "\n",
        "\n",
        "\n",
        "Here, we called the duplicated method to return a DataFrame object containing boolean values of whether it is a duplicate row or not.\n",
        "\n",
        "THen we called the .sum() method to give us the total number of duplicated tuples which is zero in this case."
      ]
    },
    {
      "cell_type": "code",
      "execution_count": 8,
      "metadata": {
        "colab": {
          "base_uri": "https://localhost:8080/"
        },
        "id": "K0SXtmTMryGy",
        "outputId": "287165cb-57bc-4b94-e83f-8ec0e1d8b8d3"
      },
      "outputs": [
        {
          "data": {
            "text/plain": [
              "Unnamed: 0          0\n",
              "Company             0\n",
              "TypeName            0\n",
              "Inches              0\n",
              "ScreenResolution    0\n",
              "Cpu                 0\n",
              "Ram                 0\n",
              "Memory              0\n",
              "Gpu                 0\n",
              "OpSys               0\n",
              "Weight              0\n",
              "Price               0\n",
              "dtype: int64"
            ]
          },
          "execution_count": 8,
          "metadata": {},
          "output_type": "execute_result"
        }
      ],
      "source": [
        "df.isnull().sum()"
      ]
    },
    {
      "cell_type": "markdown",
      "metadata": {
        "id": "C-_ePOxRsWUf"
      },
      "source": [
        "The good thing about this dataset is that there are no null values in any of the features, which we confirmed using the isnull().sum() methods respectively"
      ]
    },
    {
      "cell_type": "markdown",
      "metadata": {
        "id": "yxjaP1EDsuxY"
      },
      "source": [
        "# Pre-processing"
      ]
    },
    {
      "cell_type": "markdown",
      "metadata": {
        "id": "YsJ9ky8us3M6"
      },
      "source": [
        "If we carefully observe the features, the Unnamed:0 column is out of relevance for our purpose, hence it would be a good decision to drop the column inplace."
      ]
    },
    {
      "cell_type": "code",
      "execution_count": 9,
      "metadata": {
        "id": "muHfRffYsTfH"
      },
      "outputs": [],
      "source": [
        "df.drop(columns = ['Unnamed: 0'], inplace = True)"
      ]
    },
    {
      "cell_type": "code",
      "execution_count": 10,
      "metadata": {
        "colab": {
          "base_uri": "https://localhost:8080/",
          "height": 336
        },
        "id": "Arw9zwNotK9l",
        "outputId": "bd47a3ca-ee36-4d0d-8cc7-53bc51fd9339"
      },
      "outputs": [
        {
          "data": {
            "text/html": [
              "<div>\n",
              "<style scoped>\n",
              "    .dataframe tbody tr th:only-of-type {\n",
              "        vertical-align: middle;\n",
              "    }\n",
              "\n",
              "    .dataframe tbody tr th {\n",
              "        vertical-align: top;\n",
              "    }\n",
              "\n",
              "    .dataframe thead th {\n",
              "        text-align: right;\n",
              "    }\n",
              "</style>\n",
              "<table border=\"1\" class=\"dataframe\">\n",
              "  <thead>\n",
              "    <tr style=\"text-align: right;\">\n",
              "      <th></th>\n",
              "      <th>Company</th>\n",
              "      <th>TypeName</th>\n",
              "      <th>Inches</th>\n",
              "      <th>ScreenResolution</th>\n",
              "      <th>Cpu</th>\n",
              "      <th>Ram</th>\n",
              "      <th>Memory</th>\n",
              "      <th>Gpu</th>\n",
              "      <th>OpSys</th>\n",
              "      <th>Weight</th>\n",
              "      <th>Price</th>\n",
              "    </tr>\n",
              "  </thead>\n",
              "  <tbody>\n",
              "    <tr>\n",
              "      <th>0</th>\n",
              "      <td>Apple</td>\n",
              "      <td>Ultrabook</td>\n",
              "      <td>13.3</td>\n",
              "      <td>IPS Panel Retina Display 2560x1600</td>\n",
              "      <td>Intel Core i5 2.3GHz</td>\n",
              "      <td>8GB</td>\n",
              "      <td>128GB SSD</td>\n",
              "      <td>Intel Iris Plus Graphics 640</td>\n",
              "      <td>macOS</td>\n",
              "      <td>1.37kg</td>\n",
              "      <td>71378.6832</td>\n",
              "    </tr>\n",
              "    <tr>\n",
              "      <th>1</th>\n",
              "      <td>Apple</td>\n",
              "      <td>Ultrabook</td>\n",
              "      <td>13.3</td>\n",
              "      <td>1440x900</td>\n",
              "      <td>Intel Core i5 1.8GHz</td>\n",
              "      <td>8GB</td>\n",
              "      <td>128GB Flash Storage</td>\n",
              "      <td>Intel HD Graphics 6000</td>\n",
              "      <td>macOS</td>\n",
              "      <td>1.34kg</td>\n",
              "      <td>47895.5232</td>\n",
              "    </tr>\n",
              "    <tr>\n",
              "      <th>2</th>\n",
              "      <td>HP</td>\n",
              "      <td>Notebook</td>\n",
              "      <td>15.6</td>\n",
              "      <td>Full HD 1920x1080</td>\n",
              "      <td>Intel Core i5 7200U 2.5GHz</td>\n",
              "      <td>8GB</td>\n",
              "      <td>256GB SSD</td>\n",
              "      <td>Intel HD Graphics 620</td>\n",
              "      <td>No OS</td>\n",
              "      <td>1.86kg</td>\n",
              "      <td>30636.0000</td>\n",
              "    </tr>\n",
              "    <tr>\n",
              "      <th>3</th>\n",
              "      <td>Apple</td>\n",
              "      <td>Ultrabook</td>\n",
              "      <td>15.4</td>\n",
              "      <td>IPS Panel Retina Display 2880x1800</td>\n",
              "      <td>Intel Core i7 2.7GHz</td>\n",
              "      <td>16GB</td>\n",
              "      <td>512GB SSD</td>\n",
              "      <td>AMD Radeon Pro 455</td>\n",
              "      <td>macOS</td>\n",
              "      <td>1.83kg</td>\n",
              "      <td>135195.3360</td>\n",
              "    </tr>\n",
              "    <tr>\n",
              "      <th>4</th>\n",
              "      <td>Apple</td>\n",
              "      <td>Ultrabook</td>\n",
              "      <td>13.3</td>\n",
              "      <td>IPS Panel Retina Display 2560x1600</td>\n",
              "      <td>Intel Core i5 3.1GHz</td>\n",
              "      <td>8GB</td>\n",
              "      <td>256GB SSD</td>\n",
              "      <td>Intel Iris Plus Graphics 650</td>\n",
              "      <td>macOS</td>\n",
              "      <td>1.37kg</td>\n",
              "      <td>96095.8080</td>\n",
              "    </tr>\n",
              "  </tbody>\n",
              "</table>\n",
              "</div>"
            ],
            "text/plain": [
              "  Company   TypeName  Inches                    ScreenResolution   \n",
              "0   Apple  Ultrabook    13.3  IPS Panel Retina Display 2560x1600  \\\n",
              "1   Apple  Ultrabook    13.3                            1440x900   \n",
              "2      HP   Notebook    15.6                   Full HD 1920x1080   \n",
              "3   Apple  Ultrabook    15.4  IPS Panel Retina Display 2880x1800   \n",
              "4   Apple  Ultrabook    13.3  IPS Panel Retina Display 2560x1600   \n",
              "\n",
              "                          Cpu   Ram               Memory   \n",
              "0        Intel Core i5 2.3GHz   8GB            128GB SSD  \\\n",
              "1        Intel Core i5 1.8GHz   8GB  128GB Flash Storage   \n",
              "2  Intel Core i5 7200U 2.5GHz   8GB            256GB SSD   \n",
              "3        Intel Core i7 2.7GHz  16GB            512GB SSD   \n",
              "4        Intel Core i5 3.1GHz   8GB            256GB SSD   \n",
              "\n",
              "                            Gpu  OpSys  Weight        Price  \n",
              "0  Intel Iris Plus Graphics 640  macOS  1.37kg   71378.6832  \n",
              "1        Intel HD Graphics 6000  macOS  1.34kg   47895.5232  \n",
              "2         Intel HD Graphics 620  No OS  1.86kg   30636.0000  \n",
              "3            AMD Radeon Pro 455  macOS  1.83kg  135195.3360  \n",
              "4  Intel Iris Plus Graphics 650  macOS  1.37kg   96095.8080  "
            ]
          },
          "execution_count": 10,
          "metadata": {},
          "output_type": "execute_result"
        }
      ],
      "source": [
        "df.head()"
      ]
    },
    {
      "cell_type": "markdown",
      "metadata": {
        "id": "dLvD3hwItqK_"
      },
      "source": [
        "Here, called the df.drop method, and passed our desired column to be dropped as an argument.\n",
        "\n",
        "We chose inplace = True because we need to make permanent changes to this dataset itself"
      ]
    },
    {
      "cell_type": "markdown",
      "metadata": {
        "id": "zdvV9_pZuP4e"
      },
      "source": [
        "Now, the RAM attribute is essential to make predictions for the laptop price, but we cannot perform numerical computations on that column or to be more precise on that Series object because there is the string 'GB' associated with it.\n",
        "\n",
        "Hence we will strip each element in the column and convert them into int data type. Here's how:"
      ]
    },
    {
      "cell_type": "code",
      "execution_count": 58,
      "metadata": {
        "id": "jQmyJxBptog7"
      },
      "outputs": [
        {
          "name": "stdout",
          "output_type": "stream",
          "text": [
            "done\n"
          ]
        }
      ],
      "source": [
        "df['Ram'] = df['Ram'].str.replace('GB', '')\n",
        "df['Ram'] = df['Ram'].astype('int')\n",
        "print('done')\n"
      ]
    },
    {
      "cell_type": "markdown",
      "metadata": {
        "id": "WEHiNFQ4u5bL"
      },
      "source": [
        "As we needed to strip 'GB\", we called .str on our column because its used to access the string accessor method of the 'Ram' column.\n",
        "\n",
        "The .str allows us to apply string methods, such as .replace(), to the elements in a pandas Series or DataFrame column.\n",
        "\n",
        "Following, we replace the 'GB' with an empty string and get the following as the result:\n",
        "\n"
      ]
    },
    {
      "cell_type": "code",
      "execution_count": 12,
      "metadata": {
        "colab": {
          "base_uri": "https://localhost:8080/",
          "height": 336
        },
        "id": "3xoeqmnNu321",
        "outputId": "ec09dc0c-a95d-4594-a76a-694dd865a796"
      },
      "outputs": [
        {
          "data": {
            "text/html": [
              "<div>\n",
              "<style scoped>\n",
              "    .dataframe tbody tr th:only-of-type {\n",
              "        vertical-align: middle;\n",
              "    }\n",
              "\n",
              "    .dataframe tbody tr th {\n",
              "        vertical-align: top;\n",
              "    }\n",
              "\n",
              "    .dataframe thead th {\n",
              "        text-align: right;\n",
              "    }\n",
              "</style>\n",
              "<table border=\"1\" class=\"dataframe\">\n",
              "  <thead>\n",
              "    <tr style=\"text-align: right;\">\n",
              "      <th></th>\n",
              "      <th>Company</th>\n",
              "      <th>TypeName</th>\n",
              "      <th>Inches</th>\n",
              "      <th>ScreenResolution</th>\n",
              "      <th>Cpu</th>\n",
              "      <th>Ram</th>\n",
              "      <th>Memory</th>\n",
              "      <th>Gpu</th>\n",
              "      <th>OpSys</th>\n",
              "      <th>Weight</th>\n",
              "      <th>Price</th>\n",
              "    </tr>\n",
              "  </thead>\n",
              "  <tbody>\n",
              "    <tr>\n",
              "      <th>0</th>\n",
              "      <td>Apple</td>\n",
              "      <td>Ultrabook</td>\n",
              "      <td>13.3</td>\n",
              "      <td>IPS Panel Retina Display 2560x1600</td>\n",
              "      <td>Intel Core i5 2.3GHz</td>\n",
              "      <td>8</td>\n",
              "      <td>128GB SSD</td>\n",
              "      <td>Intel Iris Plus Graphics 640</td>\n",
              "      <td>macOS</td>\n",
              "      <td>1.37kg</td>\n",
              "      <td>71378.6832</td>\n",
              "    </tr>\n",
              "    <tr>\n",
              "      <th>1</th>\n",
              "      <td>Apple</td>\n",
              "      <td>Ultrabook</td>\n",
              "      <td>13.3</td>\n",
              "      <td>1440x900</td>\n",
              "      <td>Intel Core i5 1.8GHz</td>\n",
              "      <td>8</td>\n",
              "      <td>128GB Flash Storage</td>\n",
              "      <td>Intel HD Graphics 6000</td>\n",
              "      <td>macOS</td>\n",
              "      <td>1.34kg</td>\n",
              "      <td>47895.5232</td>\n",
              "    </tr>\n",
              "    <tr>\n",
              "      <th>2</th>\n",
              "      <td>HP</td>\n",
              "      <td>Notebook</td>\n",
              "      <td>15.6</td>\n",
              "      <td>Full HD 1920x1080</td>\n",
              "      <td>Intel Core i5 7200U 2.5GHz</td>\n",
              "      <td>8</td>\n",
              "      <td>256GB SSD</td>\n",
              "      <td>Intel HD Graphics 620</td>\n",
              "      <td>No OS</td>\n",
              "      <td>1.86kg</td>\n",
              "      <td>30636.0000</td>\n",
              "    </tr>\n",
              "    <tr>\n",
              "      <th>3</th>\n",
              "      <td>Apple</td>\n",
              "      <td>Ultrabook</td>\n",
              "      <td>15.4</td>\n",
              "      <td>IPS Panel Retina Display 2880x1800</td>\n",
              "      <td>Intel Core i7 2.7GHz</td>\n",
              "      <td>16</td>\n",
              "      <td>512GB SSD</td>\n",
              "      <td>AMD Radeon Pro 455</td>\n",
              "      <td>macOS</td>\n",
              "      <td>1.83kg</td>\n",
              "      <td>135195.3360</td>\n",
              "    </tr>\n",
              "    <tr>\n",
              "      <th>4</th>\n",
              "      <td>Apple</td>\n",
              "      <td>Ultrabook</td>\n",
              "      <td>13.3</td>\n",
              "      <td>IPS Panel Retina Display 2560x1600</td>\n",
              "      <td>Intel Core i5 3.1GHz</td>\n",
              "      <td>8</td>\n",
              "      <td>256GB SSD</td>\n",
              "      <td>Intel Iris Plus Graphics 650</td>\n",
              "      <td>macOS</td>\n",
              "      <td>1.37kg</td>\n",
              "      <td>96095.8080</td>\n",
              "    </tr>\n",
              "  </tbody>\n",
              "</table>\n",
              "</div>"
            ],
            "text/plain": [
              "  Company   TypeName  Inches                    ScreenResolution   \n",
              "0   Apple  Ultrabook    13.3  IPS Panel Retina Display 2560x1600  \\\n",
              "1   Apple  Ultrabook    13.3                            1440x900   \n",
              "2      HP   Notebook    15.6                   Full HD 1920x1080   \n",
              "3   Apple  Ultrabook    15.4  IPS Panel Retina Display 2880x1800   \n",
              "4   Apple  Ultrabook    13.3  IPS Panel Retina Display 2560x1600   \n",
              "\n",
              "                          Cpu  Ram               Memory   \n",
              "0        Intel Core i5 2.3GHz    8            128GB SSD  \\\n",
              "1        Intel Core i5 1.8GHz    8  128GB Flash Storage   \n",
              "2  Intel Core i5 7200U 2.5GHz    8            256GB SSD   \n",
              "3        Intel Core i7 2.7GHz   16            512GB SSD   \n",
              "4        Intel Core i5 3.1GHz    8            256GB SSD   \n",
              "\n",
              "                            Gpu  OpSys  Weight        Price  \n",
              "0  Intel Iris Plus Graphics 640  macOS  1.37kg   71378.6832  \n",
              "1        Intel HD Graphics 6000  macOS  1.34kg   47895.5232  \n",
              "2         Intel HD Graphics 620  No OS  1.86kg   30636.0000  \n",
              "3            AMD Radeon Pro 455  macOS  1.83kg  135195.3360  \n",
              "4  Intel Iris Plus Graphics 650  macOS  1.37kg   96095.8080  "
            ]
          },
          "execution_count": 12,
          "metadata": {},
          "output_type": "execute_result"
        }
      ],
      "source": [
        "df.head()"
      ]
    },
    {
      "cell_type": "markdown",
      "metadata": {
        "id": "MmXUREUjvxhx"
      },
      "source": [
        "Similarly, weight is also an essential attribute for us but to perform numerical operations we need it to be of the type 'float'.\n",
        "Hence we apply the same process on that column"
      ]
    },
    {
      "cell_type": "code",
      "execution_count": 13,
      "metadata": {
        "id": "6UBZeo2-vujG"
      },
      "outputs": [],
      "source": [
        "df['Weight'] = df['Weight'].str.replace('kg', \"\")\n",
        "df['Weight'] = df['Weight'].astype('float')"
      ]
    },
    {
      "cell_type": "code",
      "execution_count": 14,
      "metadata": {
        "colab": {
          "base_uri": "https://localhost:8080/",
          "height": 336
        },
        "id": "zA4VLZlZwM-7",
        "outputId": "9aff0fe0-8d43-409e-dd63-107e7594e09e"
      },
      "outputs": [
        {
          "data": {
            "text/html": [
              "<div>\n",
              "<style scoped>\n",
              "    .dataframe tbody tr th:only-of-type {\n",
              "        vertical-align: middle;\n",
              "    }\n",
              "\n",
              "    .dataframe tbody tr th {\n",
              "        vertical-align: top;\n",
              "    }\n",
              "\n",
              "    .dataframe thead th {\n",
              "        text-align: right;\n",
              "    }\n",
              "</style>\n",
              "<table border=\"1\" class=\"dataframe\">\n",
              "  <thead>\n",
              "    <tr style=\"text-align: right;\">\n",
              "      <th></th>\n",
              "      <th>Company</th>\n",
              "      <th>TypeName</th>\n",
              "      <th>Inches</th>\n",
              "      <th>ScreenResolution</th>\n",
              "      <th>Cpu</th>\n",
              "      <th>Ram</th>\n",
              "      <th>Memory</th>\n",
              "      <th>Gpu</th>\n",
              "      <th>OpSys</th>\n",
              "      <th>Weight</th>\n",
              "      <th>Price</th>\n",
              "    </tr>\n",
              "  </thead>\n",
              "  <tbody>\n",
              "    <tr>\n",
              "      <th>0</th>\n",
              "      <td>Apple</td>\n",
              "      <td>Ultrabook</td>\n",
              "      <td>13.3</td>\n",
              "      <td>IPS Panel Retina Display 2560x1600</td>\n",
              "      <td>Intel Core i5 2.3GHz</td>\n",
              "      <td>8</td>\n",
              "      <td>128GB SSD</td>\n",
              "      <td>Intel Iris Plus Graphics 640</td>\n",
              "      <td>macOS</td>\n",
              "      <td>1.37</td>\n",
              "      <td>71378.6832</td>\n",
              "    </tr>\n",
              "    <tr>\n",
              "      <th>1</th>\n",
              "      <td>Apple</td>\n",
              "      <td>Ultrabook</td>\n",
              "      <td>13.3</td>\n",
              "      <td>1440x900</td>\n",
              "      <td>Intel Core i5 1.8GHz</td>\n",
              "      <td>8</td>\n",
              "      <td>128GB Flash Storage</td>\n",
              "      <td>Intel HD Graphics 6000</td>\n",
              "      <td>macOS</td>\n",
              "      <td>1.34</td>\n",
              "      <td>47895.5232</td>\n",
              "    </tr>\n",
              "    <tr>\n",
              "      <th>2</th>\n",
              "      <td>HP</td>\n",
              "      <td>Notebook</td>\n",
              "      <td>15.6</td>\n",
              "      <td>Full HD 1920x1080</td>\n",
              "      <td>Intel Core i5 7200U 2.5GHz</td>\n",
              "      <td>8</td>\n",
              "      <td>256GB SSD</td>\n",
              "      <td>Intel HD Graphics 620</td>\n",
              "      <td>No OS</td>\n",
              "      <td>1.86</td>\n",
              "      <td>30636.0000</td>\n",
              "    </tr>\n",
              "    <tr>\n",
              "      <th>3</th>\n",
              "      <td>Apple</td>\n",
              "      <td>Ultrabook</td>\n",
              "      <td>15.4</td>\n",
              "      <td>IPS Panel Retina Display 2880x1800</td>\n",
              "      <td>Intel Core i7 2.7GHz</td>\n",
              "      <td>16</td>\n",
              "      <td>512GB SSD</td>\n",
              "      <td>AMD Radeon Pro 455</td>\n",
              "      <td>macOS</td>\n",
              "      <td>1.83</td>\n",
              "      <td>135195.3360</td>\n",
              "    </tr>\n",
              "    <tr>\n",
              "      <th>4</th>\n",
              "      <td>Apple</td>\n",
              "      <td>Ultrabook</td>\n",
              "      <td>13.3</td>\n",
              "      <td>IPS Panel Retina Display 2560x1600</td>\n",
              "      <td>Intel Core i5 3.1GHz</td>\n",
              "      <td>8</td>\n",
              "      <td>256GB SSD</td>\n",
              "      <td>Intel Iris Plus Graphics 650</td>\n",
              "      <td>macOS</td>\n",
              "      <td>1.37</td>\n",
              "      <td>96095.8080</td>\n",
              "    </tr>\n",
              "  </tbody>\n",
              "</table>\n",
              "</div>"
            ],
            "text/plain": [
              "  Company   TypeName  Inches                    ScreenResolution   \n",
              "0   Apple  Ultrabook    13.3  IPS Panel Retina Display 2560x1600  \\\n",
              "1   Apple  Ultrabook    13.3                            1440x900   \n",
              "2      HP   Notebook    15.6                   Full HD 1920x1080   \n",
              "3   Apple  Ultrabook    15.4  IPS Panel Retina Display 2880x1800   \n",
              "4   Apple  Ultrabook    13.3  IPS Panel Retina Display 2560x1600   \n",
              "\n",
              "                          Cpu  Ram               Memory   \n",
              "0        Intel Core i5 2.3GHz    8            128GB SSD  \\\n",
              "1        Intel Core i5 1.8GHz    8  128GB Flash Storage   \n",
              "2  Intel Core i5 7200U 2.5GHz    8            256GB SSD   \n",
              "3        Intel Core i7 2.7GHz   16            512GB SSD   \n",
              "4        Intel Core i5 3.1GHz    8            256GB SSD   \n",
              "\n",
              "                            Gpu  OpSys  Weight        Price  \n",
              "0  Intel Iris Plus Graphics 640  macOS    1.37   71378.6832  \n",
              "1        Intel HD Graphics 6000  macOS    1.34   47895.5232  \n",
              "2         Intel HD Graphics 620  No OS    1.86   30636.0000  \n",
              "3            AMD Radeon Pro 455  macOS    1.83  135195.3360  \n",
              "4  Intel Iris Plus Graphics 650  macOS    1.37   96095.8080  "
            ]
          },
          "execution_count": 14,
          "metadata": {},
          "output_type": "execute_result"
        }
      ],
      "source": [
        "df.head()"
      ]
    },
    {
      "cell_type": "code",
      "execution_count": 15,
      "metadata": {
        "colab": {
          "base_uri": "https://localhost:8080/"
        },
        "id": "lr0nTsp6wOKB",
        "outputId": "702bf160-19e3-4ba5-ec4a-b89fc8190379"
      },
      "outputs": [
        {
          "name": "stdout",
          "output_type": "stream",
          "text": [
            "<class 'pandas.core.frame.DataFrame'>\n",
            "RangeIndex: 1303 entries, 0 to 1302\n",
            "Data columns (total 11 columns):\n",
            " #   Column            Non-Null Count  Dtype  \n",
            "---  ------            --------------  -----  \n",
            " 0   Company           1303 non-null   object \n",
            " 1   TypeName          1303 non-null   object \n",
            " 2   Inches            1303 non-null   float64\n",
            " 3   ScreenResolution  1303 non-null   object \n",
            " 4   Cpu               1303 non-null   object \n",
            " 5   Ram               1303 non-null   int32  \n",
            " 6   Memory            1303 non-null   object \n",
            " 7   Gpu               1303 non-null   object \n",
            " 8   OpSys             1303 non-null   object \n",
            " 9   Weight            1303 non-null   float64\n",
            " 10  Price             1303 non-null   float64\n",
            "dtypes: float64(3), int32(1), object(7)\n",
            "memory usage: 107.0+ KB\n"
          ]
        }
      ],
      "source": [
        "df.info()"
      ]
    },
    {
      "cell_type": "markdown",
      "metadata": {
        "id": "oFenmhuby-h-"
      },
      "source": [
        "Here we can witness that Ram is int32, Weight is float32."
      ]
    },
    {
      "cell_type": "markdown",
      "metadata": {
        "id": "x1ZBEi5IW-Pu"
      },
      "source": [
        "# Feature Engineering (Pre-processing)"
      ]
    },
    {
      "cell_type": "markdown",
      "metadata": {
        "id": "rXJyyNdKVZi8"
      },
      "source": [
        "Now, our aim is to feed the model best version of numerically consistent data so that it can make most accurate predictions.\n",
        "\n",
        "So even if a feature is crucial is important in determining the price, we should be able to perform operations on it. But the ScreenResoultion column is very distinct and difficult to compute.\n",
        "\n",
        "Hence we will need to pre-process the data"
      ]
    },
    {
      "cell_type": "code",
      "execution_count": 16,
      "metadata": {
        "colab": {
          "base_uri": "https://localhost:8080/"
        },
        "id": "5Hk67qmgV6ek",
        "outputId": "a796b6c3-a28c-4224-c742-5a56d0206465"
      },
      "outputs": [
        {
          "data": {
            "text/plain": [
              "ScreenResolution\n",
              "Full HD 1920x1080                                507\n",
              "1366x768                                         281\n",
              "IPS Panel Full HD 1920x1080                      230\n",
              "IPS Panel Full HD / Touchscreen 1920x1080         53\n",
              "Full HD / Touchscreen 1920x1080                   47\n",
              "1600x900                                          23\n",
              "Touchscreen 1366x768                              16\n",
              "Quad HD+ / Touchscreen 3200x1800                  15\n",
              "IPS Panel 4K Ultra HD 3840x2160                   12\n",
              "IPS Panel 4K Ultra HD / Touchscreen 3840x2160     11\n",
              "4K Ultra HD / Touchscreen 3840x2160               10\n",
              "4K Ultra HD 3840x2160                              7\n",
              "Touchscreen 2560x1440                              7\n",
              "IPS Panel 1366x768                                 7\n",
              "IPS Panel Quad HD+ / Touchscreen 3200x1800         6\n",
              "IPS Panel Retina Display 2560x1600                 6\n",
              "IPS Panel Retina Display 2304x1440                 6\n",
              "Touchscreen 2256x1504                              6\n",
              "IPS Panel Touchscreen 2560x1440                    5\n",
              "IPS Panel Retina Display 2880x1800                 4\n",
              "IPS Panel Touchscreen 1920x1200                    4\n",
              "1440x900                                           4\n",
              "IPS Panel 2560x1440                                4\n",
              "IPS Panel Quad HD+ 2560x1440                       3\n",
              "Quad HD+ 3200x1800                                 3\n",
              "1920x1080                                          3\n",
              "Touchscreen 2400x1600                              3\n",
              "2560x1440                                          3\n",
              "IPS Panel Touchscreen 1366x768                     3\n",
              "IPS Panel Touchscreen / 4K Ultra HD 3840x2160      2\n",
              "IPS Panel Full HD 2160x1440                        2\n",
              "IPS Panel Quad HD+ 3200x1800                       2\n",
              "IPS Panel Retina Display 2736x1824                 1\n",
              "IPS Panel Full HD 1920x1200                        1\n",
              "IPS Panel Full HD 2560x1440                        1\n",
              "IPS Panel Full HD 1366x768                         1\n",
              "Touchscreen / Full HD 1920x1080                    1\n",
              "Touchscreen / Quad HD+ 3200x1800                   1\n",
              "Touchscreen / 4K Ultra HD 3840x2160                1\n",
              "IPS Panel Touchscreen 2400x1600                    1\n",
              "Name: count, dtype: int64"
            ]
          },
          "execution_count": 16,
          "metadata": {},
          "output_type": "execute_result"
        }
      ],
      "source": [
        "df.ScreenResolution.value_counts()"
      ]
    },
    {
      "cell_type": "markdown",
      "metadata": {
        "id": "xi6i-HWRWBIY"
      },
      "source": [
        "Here we can see that there are a lot of different types of values, with very much less comman things between them.\n",
        "\n",
        "But every value has **resolution in pixels** in it.\n",
        "\n",
        "Then there are also some laptops which are **Touchscreen** or not which is specified in this column itself.\n",
        "\n",
        "Also, we can find that maximum have **IPS panel** inside them."
      ]
    },
    {
      "cell_type": "code",
      "execution_count": 17,
      "metadata": {
        "colab": {
          "base_uri": "https://localhost:8080/"
        },
        "id": "W_X2eqtCV6gQ",
        "outputId": "a67e1b5a-115b-46c2-f8fa-3729d5d93617"
      },
      "outputs": [
        {
          "data": {
            "text/plain": [
              "0       0\n",
              "1       0\n",
              "2       0\n",
              "3       0\n",
              "4       0\n",
              "       ..\n",
              "1298    1\n",
              "1299    1\n",
              "1300    0\n",
              "1301    0\n",
              "1302    0\n",
              "Name: Touchscreen, Length: 1303, dtype: int64"
            ]
          },
          "execution_count": 17,
          "metadata": {},
          "output_type": "execute_result"
        }
      ],
      "source": [
        "df['Touchscreen'] = df['ScreenResolution'].apply(lambda x: 1 if 'Touchscreen' in x else 0)\n",
        "df['Touchscreen']"
      ]
    },
    {
      "cell_type": "markdown",
      "metadata": {
        "id": "xomdblmbXZ8D"
      },
      "source": [
        "Now, a laptop being touchscreen or not significantly determines the price, and that information is present inclusively in the ScreenResolution column.\n",
        "Hence we need to fetch it out.\n",
        "\n",
        "Therefore we created a Touchscreen column where 1 indicates touchscreen else 0.\n",
        "\n",
        "Implementation: We applied an anonymous function lambda on each element of screenresoultion and if it had the string 'Touchscreen' inside it we stored 0 in our new column else 1\n",
        "\n",
        "**We will confirm its significance in Data Visualisation part of EDA**"
      ]
    },
    {
      "cell_type": "code",
      "execution_count": 18,
      "metadata": {
        "colab": {
          "base_uri": "https://localhost:8080/"
        },
        "id": "jbdCVo-fV6kz",
        "outputId": "e427f673-6c02-460e-e3aa-0b6963523948"
      },
      "outputs": [
        {
          "data": {
            "text/plain": [
              "0       1\n",
              "1       0\n",
              "2       0\n",
              "3       1\n",
              "4       1\n",
              "       ..\n",
              "1298    1\n",
              "1299    1\n",
              "1300    0\n",
              "1301    0\n",
              "1302    0\n",
              "Name: IPS, Length: 1303, dtype: int64"
            ]
          },
          "execution_count": 18,
          "metadata": {},
          "output_type": "execute_result"
        }
      ],
      "source": [
        "df['IPS'] = df['ScreenResolution'].apply(lambda x: 1 if 'IPS' in x else 0)\n",
        "df['IPS']"
      ]
    },
    {
      "cell_type": "markdown",
      "metadata": {
        "id": "NS-hxmPlZ9Iz"
      },
      "source": [
        "We did the same thing with IPS display panels. Created a separate column for so.\n",
        "Further in EDA we have also visualised how IPS affect price and what is more expensive IPS or Touchscreen"
      ]
    },
    {
      "cell_type": "code",
      "execution_count": 19,
      "metadata": {
        "id": "6Al4kSNTV6nf"
      },
      "outputs": [],
      "source": [
        "df2 = df.copy()\n"
      ]
    },
    {
      "cell_type": "markdown",
      "metadata": {
        "id": "u0Zb3xLoLGke"
      },
      "source": [
        "Now we intuitively know that screen resolution plays an important part in predicting the price, specifically the 1080x1920 part.\n",
        "Hence to analyse them, we would have to extract them from the ScreenResolution column and create two seperate columns for so."
      ]
    },
    {
      "cell_type": "code",
      "execution_count": 20,
      "metadata": {
        "colab": {
          "base_uri": "https://localhost:8080/",
          "height": 423
        },
        "id": "gPBoUg8BV6s-",
        "outputId": "8a14d7c4-d0ee-4f1c-dfde-58324c28468e"
      },
      "outputs": [
        {
          "data": {
            "text/html": [
              "<div>\n",
              "<style scoped>\n",
              "    .dataframe tbody tr th:only-of-type {\n",
              "        vertical-align: middle;\n",
              "    }\n",
              "\n",
              "    .dataframe tbody tr th {\n",
              "        vertical-align: top;\n",
              "    }\n",
              "\n",
              "    .dataframe thead th {\n",
              "        text-align: right;\n",
              "    }\n",
              "</style>\n",
              "<table border=\"1\" class=\"dataframe\">\n",
              "  <thead>\n",
              "    <tr style=\"text-align: right;\">\n",
              "      <th></th>\n",
              "      <th>0</th>\n",
              "      <th>1</th>\n",
              "    </tr>\n",
              "  </thead>\n",
              "  <tbody>\n",
              "    <tr>\n",
              "      <th>0</th>\n",
              "      <td>IPS Panel Retina Display 2560</td>\n",
              "      <td>1600</td>\n",
              "    </tr>\n",
              "    <tr>\n",
              "      <th>1</th>\n",
              "      <td>1440</td>\n",
              "      <td>900</td>\n",
              "    </tr>\n",
              "    <tr>\n",
              "      <th>2</th>\n",
              "      <td>Full HD 1920</td>\n",
              "      <td>1080</td>\n",
              "    </tr>\n",
              "    <tr>\n",
              "      <th>3</th>\n",
              "      <td>IPS Panel Retina Display 2880</td>\n",
              "      <td>1800</td>\n",
              "    </tr>\n",
              "    <tr>\n",
              "      <th>4</th>\n",
              "      <td>IPS Panel Retina Display 2560</td>\n",
              "      <td>1600</td>\n",
              "    </tr>\n",
              "    <tr>\n",
              "      <th>...</th>\n",
              "      <td>...</td>\n",
              "      <td>...</td>\n",
              "    </tr>\n",
              "    <tr>\n",
              "      <th>1298</th>\n",
              "      <td>IPS Panel Full HD / Touchscreen 1920</td>\n",
              "      <td>1080</td>\n",
              "    </tr>\n",
              "    <tr>\n",
              "      <th>1299</th>\n",
              "      <td>IPS Panel Quad HD+ / Touchscreen 3200</td>\n",
              "      <td>1800</td>\n",
              "    </tr>\n",
              "    <tr>\n",
              "      <th>1300</th>\n",
              "      <td>1366</td>\n",
              "      <td>768</td>\n",
              "    </tr>\n",
              "    <tr>\n",
              "      <th>1301</th>\n",
              "      <td>1366</td>\n",
              "      <td>768</td>\n",
              "    </tr>\n",
              "    <tr>\n",
              "      <th>1302</th>\n",
              "      <td>1366</td>\n",
              "      <td>768</td>\n",
              "    </tr>\n",
              "  </tbody>\n",
              "</table>\n",
              "<p>1303 rows × 2 columns</p>\n",
              "</div>"
            ],
            "text/plain": [
              "                                          0     1\n",
              "0             IPS Panel Retina Display 2560  1600\n",
              "1                                      1440   900\n",
              "2                              Full HD 1920  1080\n",
              "3             IPS Panel Retina Display 2880  1800\n",
              "4             IPS Panel Retina Display 2560  1600\n",
              "...                                     ...   ...\n",
              "1298   IPS Panel Full HD / Touchscreen 1920  1080\n",
              "1299  IPS Panel Quad HD+ / Touchscreen 3200  1800\n",
              "1300                                   1366   768\n",
              "1301                                   1366   768\n",
              "1302                                   1366   768\n",
              "\n",
              "[1303 rows x 2 columns]"
            ]
          },
          "execution_count": 20,
          "metadata": {},
          "output_type": "execute_result"
        }
      ],
      "source": [
        "new = df['ScreenResolution'].str.split('x',n=1,expand=True)\n",
        "new"
      ]
    },
    {
      "cell_type": "markdown",
      "metadata": {
        "id": "ylkVitz5Li8G"
      },
      "source": [
        "Here, we splitted each screenresolution row on the basis of 'x' and expand = True specifies that the result of the split should be returned as a DataFrame with each substring occupying its own column. By default, expand=False, and the result is returned as a series of lists, where each element is a list of substrings resulting from the split."
      ]
    },
    {
      "cell_type": "code",
      "execution_count": 21,
      "metadata": {
        "id": "SkbHGEjuL-iz"
      },
      "outputs": [],
      "source": [
        "df['X_resolution'] = new[0]\n",
        "df['Y_resolution'] = new[1]"
      ]
    },
    {
      "cell_type": "markdown",
      "metadata": {
        "id": "aY2M9ZYAMHIy"
      },
      "source": [
        "Here we created two different columns in the dataframe and stored the first column and second of the new dataframe in the original respectively"
      ]
    },
    {
      "cell_type": "code",
      "execution_count": 22,
      "metadata": {
        "id": "YfOtxCGDMG0g"
      },
      "outputs": [],
      "source": [
        "df['X_resolution'] = df['X_resolution'].str.replace(',','').str.findall(r'(\\d+\\.?\\d+)').apply(lambda x:x[0])\n"
      ]
    },
    {
      "cell_type": "markdown",
      "metadata": {
        "id": "3l3AnPyvPfDs"
      },
      "source": [
        "Now, I have a column in which each row has values like IPS LCD 1080, so my work is to extract the numerical part from the element.\n",
        "\n",
        "So first I replace all the commas by empty strings, so that I can carry out my processes smoothly, then I call str.findall which will return me a list of strings satisfying my condition.\n",
        "\n",
        "I pass a regular expression (regex) that will give me a decimal or integer number occurences, and at last I apply lambda function where I only get the first occurence of the Integer"
      ]
    },
    {
      "cell_type": "code",
      "execution_count": 23,
      "metadata": {
        "colab": {
          "base_uri": "https://localhost:8080/",
          "height": 495
        },
        "id": "qJ3S-TT-L_CQ",
        "outputId": "e5be489a-ce67-40fa-f27a-313e42f6db48"
      },
      "outputs": [
        {
          "data": {
            "text/html": [
              "<div>\n",
              "<style scoped>\n",
              "    .dataframe tbody tr th:only-of-type {\n",
              "        vertical-align: middle;\n",
              "    }\n",
              "\n",
              "    .dataframe tbody tr th {\n",
              "        vertical-align: top;\n",
              "    }\n",
              "\n",
              "    .dataframe thead th {\n",
              "        text-align: right;\n",
              "    }\n",
              "</style>\n",
              "<table border=\"1\" class=\"dataframe\">\n",
              "  <thead>\n",
              "    <tr style=\"text-align: right;\">\n",
              "      <th></th>\n",
              "      <th>Company</th>\n",
              "      <th>TypeName</th>\n",
              "      <th>Inches</th>\n",
              "      <th>ScreenResolution</th>\n",
              "      <th>Cpu</th>\n",
              "      <th>Ram</th>\n",
              "      <th>Memory</th>\n",
              "      <th>Gpu</th>\n",
              "      <th>OpSys</th>\n",
              "      <th>Weight</th>\n",
              "      <th>Price</th>\n",
              "      <th>Touchscreen</th>\n",
              "      <th>IPS</th>\n",
              "      <th>X_resolution</th>\n",
              "      <th>Y_resolution</th>\n",
              "    </tr>\n",
              "  </thead>\n",
              "  <tbody>\n",
              "    <tr>\n",
              "      <th>0</th>\n",
              "      <td>Apple</td>\n",
              "      <td>Ultrabook</td>\n",
              "      <td>13.3</td>\n",
              "      <td>IPS Panel Retina Display 2560x1600</td>\n",
              "      <td>Intel Core i5 2.3GHz</td>\n",
              "      <td>8</td>\n",
              "      <td>128GB SSD</td>\n",
              "      <td>Intel Iris Plus Graphics 640</td>\n",
              "      <td>macOS</td>\n",
              "      <td>1.37</td>\n",
              "      <td>71378.6832</td>\n",
              "      <td>0</td>\n",
              "      <td>1</td>\n",
              "      <td>2560</td>\n",
              "      <td>1600</td>\n",
              "    </tr>\n",
              "    <tr>\n",
              "      <th>1</th>\n",
              "      <td>Apple</td>\n",
              "      <td>Ultrabook</td>\n",
              "      <td>13.3</td>\n",
              "      <td>1440x900</td>\n",
              "      <td>Intel Core i5 1.8GHz</td>\n",
              "      <td>8</td>\n",
              "      <td>128GB Flash Storage</td>\n",
              "      <td>Intel HD Graphics 6000</td>\n",
              "      <td>macOS</td>\n",
              "      <td>1.34</td>\n",
              "      <td>47895.5232</td>\n",
              "      <td>0</td>\n",
              "      <td>0</td>\n",
              "      <td>1440</td>\n",
              "      <td>900</td>\n",
              "    </tr>\n",
              "    <tr>\n",
              "      <th>2</th>\n",
              "      <td>HP</td>\n",
              "      <td>Notebook</td>\n",
              "      <td>15.6</td>\n",
              "      <td>Full HD 1920x1080</td>\n",
              "      <td>Intel Core i5 7200U 2.5GHz</td>\n",
              "      <td>8</td>\n",
              "      <td>256GB SSD</td>\n",
              "      <td>Intel HD Graphics 620</td>\n",
              "      <td>No OS</td>\n",
              "      <td>1.86</td>\n",
              "      <td>30636.0000</td>\n",
              "      <td>0</td>\n",
              "      <td>0</td>\n",
              "      <td>1920</td>\n",
              "      <td>1080</td>\n",
              "    </tr>\n",
              "    <tr>\n",
              "      <th>3</th>\n",
              "      <td>Apple</td>\n",
              "      <td>Ultrabook</td>\n",
              "      <td>15.4</td>\n",
              "      <td>IPS Panel Retina Display 2880x1800</td>\n",
              "      <td>Intel Core i7 2.7GHz</td>\n",
              "      <td>16</td>\n",
              "      <td>512GB SSD</td>\n",
              "      <td>AMD Radeon Pro 455</td>\n",
              "      <td>macOS</td>\n",
              "      <td>1.83</td>\n",
              "      <td>135195.3360</td>\n",
              "      <td>0</td>\n",
              "      <td>1</td>\n",
              "      <td>2880</td>\n",
              "      <td>1800</td>\n",
              "    </tr>\n",
              "    <tr>\n",
              "      <th>4</th>\n",
              "      <td>Apple</td>\n",
              "      <td>Ultrabook</td>\n",
              "      <td>13.3</td>\n",
              "      <td>IPS Panel Retina Display 2560x1600</td>\n",
              "      <td>Intel Core i5 3.1GHz</td>\n",
              "      <td>8</td>\n",
              "      <td>256GB SSD</td>\n",
              "      <td>Intel Iris Plus Graphics 650</td>\n",
              "      <td>macOS</td>\n",
              "      <td>1.37</td>\n",
              "      <td>96095.8080</td>\n",
              "      <td>0</td>\n",
              "      <td>1</td>\n",
              "      <td>2560</td>\n",
              "      <td>1600</td>\n",
              "    </tr>\n",
              "  </tbody>\n",
              "</table>\n",
              "</div>"
            ],
            "text/plain": [
              "  Company   TypeName  Inches                    ScreenResolution   \n",
              "0   Apple  Ultrabook    13.3  IPS Panel Retina Display 2560x1600  \\\n",
              "1   Apple  Ultrabook    13.3                            1440x900   \n",
              "2      HP   Notebook    15.6                   Full HD 1920x1080   \n",
              "3   Apple  Ultrabook    15.4  IPS Panel Retina Display 2880x1800   \n",
              "4   Apple  Ultrabook    13.3  IPS Panel Retina Display 2560x1600   \n",
              "\n",
              "                          Cpu  Ram               Memory   \n",
              "0        Intel Core i5 2.3GHz    8            128GB SSD  \\\n",
              "1        Intel Core i5 1.8GHz    8  128GB Flash Storage   \n",
              "2  Intel Core i5 7200U 2.5GHz    8            256GB SSD   \n",
              "3        Intel Core i7 2.7GHz   16            512GB SSD   \n",
              "4        Intel Core i5 3.1GHz    8            256GB SSD   \n",
              "\n",
              "                            Gpu  OpSys  Weight        Price  Touchscreen  IPS   \n",
              "0  Intel Iris Plus Graphics 640  macOS    1.37   71378.6832            0    1  \\\n",
              "1        Intel HD Graphics 6000  macOS    1.34   47895.5232            0    0   \n",
              "2         Intel HD Graphics 620  No OS    1.86   30636.0000            0    0   \n",
              "3            AMD Radeon Pro 455  macOS    1.83  135195.3360            0    1   \n",
              "4  Intel Iris Plus Graphics 650  macOS    1.37   96095.8080            0    1   \n",
              "\n",
              "  X_resolution Y_resolution  \n",
              "0         2560         1600  \n",
              "1         1440          900  \n",
              "2         1920         1080  \n",
              "3         2880         1800  \n",
              "4         2560         1600  "
            ]
          },
          "execution_count": 23,
          "metadata": {},
          "output_type": "execute_result"
        }
      ],
      "source": [
        "df.head()"
      ]
    },
    {
      "cell_type": "code",
      "execution_count": 24,
      "metadata": {
        "id": "LVpRweapL_Dv"
      },
      "outputs": [],
      "source": [
        "df['X_resolution'] = df['X_resolution'].astype('int')\n",
        "df['Y_resolution'] = df['Y_resolution'].astype('int')"
      ]
    },
    {
      "cell_type": "code",
      "execution_count": 25,
      "metadata": {
        "colab": {
          "base_uri": "https://localhost:8080/"
        },
        "id": "_1HqQJD0L_Hi",
        "outputId": "841f7f80-ac8a-4e92-d18d-12fcd531dd7d"
      },
      "outputs": [
        {
          "name": "stdout",
          "output_type": "stream",
          "text": [
            "<class 'pandas.core.frame.DataFrame'>\n",
            "RangeIndex: 1303 entries, 0 to 1302\n",
            "Data columns (total 15 columns):\n",
            " #   Column            Non-Null Count  Dtype  \n",
            "---  ------            --------------  -----  \n",
            " 0   Company           1303 non-null   object \n",
            " 1   TypeName          1303 non-null   object \n",
            " 2   Inches            1303 non-null   float64\n",
            " 3   ScreenResolution  1303 non-null   object \n",
            " 4   Cpu               1303 non-null   object \n",
            " 5   Ram               1303 non-null   int32  \n",
            " 6   Memory            1303 non-null   object \n",
            " 7   Gpu               1303 non-null   object \n",
            " 8   OpSys             1303 non-null   object \n",
            " 9   Weight            1303 non-null   float64\n",
            " 10  Price             1303 non-null   float64\n",
            " 11  Touchscreen       1303 non-null   int64  \n",
            " 12  IPS               1303 non-null   int64  \n",
            " 13  X_resolution      1303 non-null   int32  \n",
            " 14  Y_resolution      1303 non-null   int32  \n",
            "dtypes: float64(3), int32(3), int64(2), object(7)\n",
            "memory usage: 137.6+ KB\n"
          ]
        }
      ],
      "source": [
        "df.info()"
      ]
    },
    {
      "attachments": {},
      "cell_type": "markdown",
      "metadata": {},
      "source": [
        "Now there is no way to find how x and y resolution contribute to the price individually.\n",
        "Hence we are going to create a new column pixels per inch (PPI) which takes into consideration columns like inches, x and y resolution"
      ]
    },
    {
      "cell_type": "code",
      "execution_count": 26,
      "metadata": {},
      "outputs": [],
      "source": [
        "df['PPI'] = (((df['X_resolution']**2)  +  (df['Y_resolution']**2))**0.5/df['Inches']).astype('float')"
      ]
    },
    {
      "cell_type": "markdown",
      "metadata": {},
      "source": [
        "Now there is no way to find how x and y resolution contribute to the price individually.\n",
        "Hence we are going to create a new column pixels per inch (PPI) which takes into consideration columns like inches, x and y resolution"
      ]
    },
    {
      "attachments": {},
      "cell_type": "markdown",
      "metadata": {},
      "source": [
        "show that df.corr()['Price'] is having high correlation for ppi"
      ]
    },
    {
      "cell_type": "code",
      "execution_count": 59,
      "metadata": {},
      "outputs": [],
      "source": [
        "df.drop(columns = ['ScreenResolution', 'Inches'], inplace=True)\n",
        "df.drop(columns = ['X_resolution', 'Y_resolution'], inplace=True)"
      ]
    },
    {
      "attachments": {},
      "cell_type": "markdown",
      "metadata": {},
      "source": [
        "We dropped the columns Inches, Screen Resolution, X_res, Y_res because we replaced it with PPI"
      ]
    },
    {
      "cell_type": "code",
      "execution_count": null,
      "metadata": {},
      "outputs": [],
      "source": [
        "df.head()"
      ]
    },
    {
      "attachments": {},
      "cell_type": "markdown",
      "metadata": {},
      "source": [
        "Now our next focus is the CPU column."
      ]
    },
    {
      "cell_type": "code",
      "execution_count": 29,
      "metadata": {},
      "outputs": [
        {
          "data": {
            "text/plain": [
              "Cpu\n",
              "Intel Core i5 7200U 2.5GHz       190\n",
              "Intel Core i7 7700HQ 2.8GHz      146\n",
              "Intel Core i7 7500U 2.7GHz       134\n",
              "Intel Core i7 8550U 1.8GHz        73\n",
              "Intel Core i5 8250U 1.6GHz        72\n",
              "                                ... \n",
              "Intel Core M M3-6Y30 0.9GHz        1\n",
              "AMD A9-Series 9420 2.9GHz          1\n",
              "Intel Core i3 6006U 2.2GHz         1\n",
              "AMD A6-Series 7310 2GHz            1\n",
              "Intel Xeon E3-1535M v6 3.1GHz      1\n",
              "Name: count, Length: 118, dtype: int64"
            ]
          },
          "execution_count": 29,
          "metadata": {},
          "output_type": "execute_result"
        }
      ],
      "source": [
        "df.Cpu.value_counts()"
      ]
    },
    {
      "attachments": {},
      "cell_type": "markdown",
      "metadata": {},
      "source": [
        "We can see that there are 188 different types of CPU, so we will group the comman ones together and exclude rest in 'others' group"
      ]
    },
    {
      "cell_type": "code",
      "execution_count": 30,
      "metadata": {},
      "outputs": [],
      "source": [
        "df['CPU Name'] = df.Cpu.apply(lambda x:\" \".join(x.split()[0:3]))"
      ]
    },
    {
      "attachments": {},
      "cell_type": "markdown",
      "metadata": {},
      "source": [
        "Here as I am only interested in first three words, I split and selected only first three through indexing, then I converted into a string by .join"
      ]
    },
    {
      "cell_type": "code",
      "execution_count": 61,
      "metadata": {},
      "outputs": [
        {
          "data": {
            "text/html": [
              "<div>\n",
              "<style scoped>\n",
              "    .dataframe tbody tr th:only-of-type {\n",
              "        vertical-align: middle;\n",
              "    }\n",
              "\n",
              "    .dataframe tbody tr th {\n",
              "        vertical-align: top;\n",
              "    }\n",
              "\n",
              "    .dataframe thead th {\n",
              "        text-align: right;\n",
              "    }\n",
              "</style>\n",
              "<table border=\"1\" class=\"dataframe\">\n",
              "  <thead>\n",
              "    <tr style=\"text-align: right;\">\n",
              "      <th></th>\n",
              "      <th>Company</th>\n",
              "      <th>TypeName</th>\n",
              "      <th>Ram</th>\n",
              "      <th>Memory</th>\n",
              "      <th>Gpu</th>\n",
              "      <th>OpSys</th>\n",
              "      <th>Weight</th>\n",
              "      <th>Price</th>\n",
              "      <th>Touchscreen</th>\n",
              "      <th>IPS</th>\n",
              "      <th>PPI</th>\n",
              "      <th>CPU Brand</th>\n",
              "      <th>First</th>\n",
              "    </tr>\n",
              "  </thead>\n",
              "  <tbody>\n",
              "    <tr>\n",
              "      <th>0</th>\n",
              "      <td>Apple</td>\n",
              "      <td>Ultrabook</td>\n",
              "      <td>8</td>\n",
              "      <td>128 SSD</td>\n",
              "      <td>Intel Iris Plus Graphics 640</td>\n",
              "      <td>macOS</td>\n",
              "      <td>1.37</td>\n",
              "      <td>71378.6832</td>\n",
              "      <td>0</td>\n",
              "      <td>1</td>\n",
              "      <td>226.983005</td>\n",
              "      <td>Intel Core i5</td>\n",
              "      <td>128 SSD</td>\n",
              "    </tr>\n",
              "    <tr>\n",
              "      <th>1</th>\n",
              "      <td>Apple</td>\n",
              "      <td>Ultrabook</td>\n",
              "      <td>8</td>\n",
              "      <td>128 Flash Storage</td>\n",
              "      <td>Intel HD Graphics 6000</td>\n",
              "      <td>macOS</td>\n",
              "      <td>1.34</td>\n",
              "      <td>47895.5232</td>\n",
              "      <td>0</td>\n",
              "      <td>0</td>\n",
              "      <td>127.677940</td>\n",
              "      <td>Intel Core i5</td>\n",
              "      <td>128 Flash Storage</td>\n",
              "    </tr>\n",
              "    <tr>\n",
              "      <th>2</th>\n",
              "      <td>HP</td>\n",
              "      <td>Notebook</td>\n",
              "      <td>8</td>\n",
              "      <td>256 SSD</td>\n",
              "      <td>Intel HD Graphics 620</td>\n",
              "      <td>No OS</td>\n",
              "      <td>1.86</td>\n",
              "      <td>30636.0000</td>\n",
              "      <td>0</td>\n",
              "      <td>0</td>\n",
              "      <td>141.211998</td>\n",
              "      <td>Intel Core i5</td>\n",
              "      <td>256 SSD</td>\n",
              "    </tr>\n",
              "    <tr>\n",
              "      <th>3</th>\n",
              "      <td>Apple</td>\n",
              "      <td>Ultrabook</td>\n",
              "      <td>16</td>\n",
              "      <td>512 SSD</td>\n",
              "      <td>AMD Radeon Pro 455</td>\n",
              "      <td>macOS</td>\n",
              "      <td>1.83</td>\n",
              "      <td>135195.3360</td>\n",
              "      <td>0</td>\n",
              "      <td>1</td>\n",
              "      <td>220.534624</td>\n",
              "      <td>Intel Core i7</td>\n",
              "      <td>512 SSD</td>\n",
              "    </tr>\n",
              "    <tr>\n",
              "      <th>4</th>\n",
              "      <td>Apple</td>\n",
              "      <td>Ultrabook</td>\n",
              "      <td>8</td>\n",
              "      <td>256 SSD</td>\n",
              "      <td>Intel Iris Plus Graphics 650</td>\n",
              "      <td>macOS</td>\n",
              "      <td>1.37</td>\n",
              "      <td>96095.8080</td>\n",
              "      <td>0</td>\n",
              "      <td>1</td>\n",
              "      <td>226.983005</td>\n",
              "      <td>Intel Core i5</td>\n",
              "      <td>256 SSD</td>\n",
              "    </tr>\n",
              "  </tbody>\n",
              "</table>\n",
              "</div>"
            ],
            "text/plain": [
              "  Company   TypeName  Ram             Memory                           Gpu   \n",
              "0   Apple  Ultrabook    8            128 SSD  Intel Iris Plus Graphics 640  \\\n",
              "1   Apple  Ultrabook    8  128 Flash Storage        Intel HD Graphics 6000   \n",
              "2      HP   Notebook    8            256 SSD         Intel HD Graphics 620   \n",
              "3   Apple  Ultrabook   16            512 SSD            AMD Radeon Pro 455   \n",
              "4   Apple  Ultrabook    8            256 SSD  Intel Iris Plus Graphics 650   \n",
              "\n",
              "   OpSys  Weight        Price  Touchscreen  IPS         PPI      CPU Brand   \n",
              "0  macOS    1.37   71378.6832            0    1  226.983005  Intel Core i5  \\\n",
              "1  macOS    1.34   47895.5232            0    0  127.677940  Intel Core i5   \n",
              "2  No OS    1.86   30636.0000            0    0  141.211998  Intel Core i5   \n",
              "3  macOS    1.83  135195.3360            0    1  220.534624  Intel Core i7   \n",
              "4  macOS    1.37   96095.8080            0    1  226.983005  Intel Core i5   \n",
              "\n",
              "               First  \n",
              "0            128 SSD  \n",
              "1  128 Flash Storage  \n",
              "2            256 SSD  \n",
              "3            512 SSD  \n",
              "4            256 SSD  "
            ]
          },
          "execution_count": 61,
          "metadata": {},
          "output_type": "execute_result"
        }
      ],
      "source": [
        "df.head()"
      ]
    },
    {
      "cell_type": "code",
      "execution_count": 32,
      "metadata": {},
      "outputs": [],
      "source": [
        "def NameProcessor(string):\n",
        "  if string == 'Intel Core i5' or string == 'Intel Core i3' or string == 'Intel Core i7':\n",
        "    return string\n",
        "  else:\n",
        "    if string.split()[0] == 'Intel':\n",
        "      return 'Other Intel Processor'\n",
        "    else: \n",
        "      return 'AMD Processor'"
      ]
    },
    {
      "attachments": {},
      "cell_type": "markdown",
      "metadata": {},
      "source": [
        "Here we made a function where our input will be the new CPU Name column and if the String corresponds to i7, i5 or i3, then we will return the String itself. If it is just intel but not i, then it will come under other intel category, else it is an AMD Processor."
      ]
    },
    {
      "cell_type": "code",
      "execution_count": 33,
      "metadata": {},
      "outputs": [],
      "source": [
        "df['CPU Brand'] = df['CPU Name'].apply(NameProcessor)"
      ]
    },
    {
      "cell_type": "code",
      "execution_count": 34,
      "metadata": {},
      "outputs": [
        {
          "data": {
            "text/plain": [
              "CPU Brand\n",
              "Intel Core i7            527\n",
              "Intel Core i5            423\n",
              "Other Intel Processor    154\n",
              "Intel Core i3            136\n",
              "AMD Processor             63\n",
              "Name: count, dtype: int64"
            ]
          },
          "execution_count": 34,
          "metadata": {},
          "output_type": "execute_result"
        }
      ],
      "source": [
        "df['CPU Brand'].value_counts()"
      ]
    },
    {
      "cell_type": "code",
      "execution_count": 35,
      "metadata": {},
      "outputs": [
        {
          "data": {
            "text/plain": [
              "<AxesSubplot: xlabel='CPU Brand'>"
            ]
          },
          "execution_count": 35,
          "metadata": {},
          "output_type": "execute_result"
        },
        {
          "data": {
            "image/png": "[encoded data removed]",
            "text/plain": [
              "<Figure size 640x480 with 1 Axes>"
            ]
          },
          "metadata": {},
          "output_type": "display_data"
        }
      ],
      "source": [
        "df['CPU Brand'].value_counts().plot(kind = 'bar')"
      ]
    },
    {
      "attachments": {},
      "cell_type": "markdown",
      "metadata": {},
      "source": [
        "Now we can see that we have structured the CPU column\n",
        "We will see how price varies with CPU Brand type in EDA"
      ]
    },
    {
      "attachments": {},
      "cell_type": "markdown",
      "metadata": {},
      "source": [
        "Now our CPU and CPU Name columns are useless, hence we will drop them"
      ]
    },
    {
      "cell_type": "code",
      "execution_count": 36,
      "metadata": {},
      "outputs": [],
      "source": [
        "df.drop(columns = ['Cpu', 'CPU Name'], inplace = True)"
      ]
    },
    {
      "cell_type": "code",
      "execution_count": 62,
      "metadata": {},
      "outputs": [
        {
          "data": {
            "text/html": [
              "<div>\n",
              "<style scoped>\n",
              "    .dataframe tbody tr th:only-of-type {\n",
              "        vertical-align: middle;\n",
              "    }\n",
              "\n",
              "    .dataframe tbody tr th {\n",
              "        vertical-align: top;\n",
              "    }\n",
              "\n",
              "    .dataframe thead th {\n",
              "        text-align: right;\n",
              "    }\n",
              "</style>\n",
              "<table border=\"1\" class=\"dataframe\">\n",
              "  <thead>\n",
              "    <tr style=\"text-align: right;\">\n",
              "      <th></th>\n",
              "      <th>Company</th>\n",
              "      <th>TypeName</th>\n",
              "      <th>Ram</th>\n",
              "      <th>Memory</th>\n",
              "      <th>Gpu</th>\n",
              "      <th>OpSys</th>\n",
              "      <th>Weight</th>\n",
              "      <th>Price</th>\n",
              "      <th>Touchscreen</th>\n",
              "      <th>IPS</th>\n",
              "      <th>PPI</th>\n",
              "      <th>CPU Brand</th>\n",
              "      <th>First</th>\n",
              "    </tr>\n",
              "  </thead>\n",
              "  <tbody>\n",
              "    <tr>\n",
              "      <th>0</th>\n",
              "      <td>Apple</td>\n",
              "      <td>Ultrabook</td>\n",
              "      <td>8</td>\n",
              "      <td>128 SSD</td>\n",
              "      <td>Intel Iris Plus Graphics 640</td>\n",
              "      <td>macOS</td>\n",
              "      <td>1.37</td>\n",
              "      <td>71378.6832</td>\n",
              "      <td>0</td>\n",
              "      <td>1</td>\n",
              "      <td>226.983005</td>\n",
              "      <td>Intel Core i5</td>\n",
              "      <td>128 SSD</td>\n",
              "    </tr>\n",
              "    <tr>\n",
              "      <th>1</th>\n",
              "      <td>Apple</td>\n",
              "      <td>Ultrabook</td>\n",
              "      <td>8</td>\n",
              "      <td>128 Flash Storage</td>\n",
              "      <td>Intel HD Graphics 6000</td>\n",
              "      <td>macOS</td>\n",
              "      <td>1.34</td>\n",
              "      <td>47895.5232</td>\n",
              "      <td>0</td>\n",
              "      <td>0</td>\n",
              "      <td>127.677940</td>\n",
              "      <td>Intel Core i5</td>\n",
              "      <td>128 Flash Storage</td>\n",
              "    </tr>\n",
              "    <tr>\n",
              "      <th>2</th>\n",
              "      <td>HP</td>\n",
              "      <td>Notebook</td>\n",
              "      <td>8</td>\n",
              "      <td>256 SSD</td>\n",
              "      <td>Intel HD Graphics 620</td>\n",
              "      <td>No OS</td>\n",
              "      <td>1.86</td>\n",
              "      <td>30636.0000</td>\n",
              "      <td>0</td>\n",
              "      <td>0</td>\n",
              "      <td>141.211998</td>\n",
              "      <td>Intel Core i5</td>\n",
              "      <td>256 SSD</td>\n",
              "    </tr>\n",
              "    <tr>\n",
              "      <th>3</th>\n",
              "      <td>Apple</td>\n",
              "      <td>Ultrabook</td>\n",
              "      <td>16</td>\n",
              "      <td>512 SSD</td>\n",
              "      <td>AMD Radeon Pro 455</td>\n",
              "      <td>macOS</td>\n",
              "      <td>1.83</td>\n",
              "      <td>135195.3360</td>\n",
              "      <td>0</td>\n",
              "      <td>1</td>\n",
              "      <td>220.534624</td>\n",
              "      <td>Intel Core i7</td>\n",
              "      <td>512 SSD</td>\n",
              "    </tr>\n",
              "    <tr>\n",
              "      <th>4</th>\n",
              "      <td>Apple</td>\n",
              "      <td>Ultrabook</td>\n",
              "      <td>8</td>\n",
              "      <td>256 SSD</td>\n",
              "      <td>Intel Iris Plus Graphics 650</td>\n",
              "      <td>macOS</td>\n",
              "      <td>1.37</td>\n",
              "      <td>96095.8080</td>\n",
              "      <td>0</td>\n",
              "      <td>1</td>\n",
              "      <td>226.983005</td>\n",
              "      <td>Intel Core i5</td>\n",
              "      <td>256 SSD</td>\n",
              "    </tr>\n",
              "  </tbody>\n",
              "</table>\n",
              "</div>"
            ],
            "text/plain": [
              "  Company   TypeName  Ram             Memory                           Gpu   \n",
              "0   Apple  Ultrabook    8            128 SSD  Intel Iris Plus Graphics 640  \\\n",
              "1   Apple  Ultrabook    8  128 Flash Storage        Intel HD Graphics 6000   \n",
              "2      HP   Notebook    8            256 SSD         Intel HD Graphics 620   \n",
              "3   Apple  Ultrabook   16            512 SSD            AMD Radeon Pro 455   \n",
              "4   Apple  Ultrabook    8            256 SSD  Intel Iris Plus Graphics 650   \n",
              "\n",
              "   OpSys  Weight        Price  Touchscreen  IPS         PPI      CPU Brand   \n",
              "0  macOS    1.37   71378.6832            0    1  226.983005  Intel Core i5  \\\n",
              "1  macOS    1.34   47895.5232            0    0  127.677940  Intel Core i5   \n",
              "2  No OS    1.86   30636.0000            0    0  141.211998  Intel Core i5   \n",
              "3  macOS    1.83  135195.3360            0    1  220.534624  Intel Core i7   \n",
              "4  macOS    1.37   96095.8080            0    1  226.983005  Intel Core i5   \n",
              "\n",
              "               First  \n",
              "0            128 SSD  \n",
              "1  128 Flash Storage  \n",
              "2            256 SSD  \n",
              "3            512 SSD  \n",
              "4            256 SSD  "
            ]
          },
          "execution_count": 62,
          "metadata": {},
          "output_type": "execute_result"
        }
      ],
      "source": [
        "df.head()"
      ]
    },
    {
      "attachments": {},
      "cell_type": "markdown",
      "metadata": {},
      "source": [
        "Now we will tackle with the Memory Column"
      ]
    },
    {
      "cell_type": "code",
      "execution_count": 38,
      "metadata": {},
      "outputs": [
        {
          "data": {
            "text/plain": [
              "Memory\n",
              "256GB SSD                        412\n",
              "1TB HDD                          223\n",
              "500GB HDD                        132\n",
              "512GB SSD                        118\n",
              "128GB SSD +  1TB HDD              94\n",
              "128GB SSD                         76\n",
              "256GB SSD +  1TB HDD              73\n",
              "32GB Flash Storage                38\n",
              "2TB HDD                           16\n",
              "64GB Flash Storage                15\n",
              "512GB SSD +  1TB HDD              14\n",
              "1TB SSD                           14\n",
              "256GB SSD +  2TB HDD              10\n",
              "1.0TB Hybrid                       9\n",
              "256GB Flash Storage                8\n",
              "16GB Flash Storage                 7\n",
              "32GB SSD                           6\n",
              "180GB SSD                          5\n",
              "128GB Flash Storage                4\n",
              "512GB SSD +  2TB HDD               3\n",
              "16GB SSD                           3\n",
              "512GB Flash Storage                2\n",
              "1TB SSD +  1TB HDD                 2\n",
              "256GB SSD +  500GB HDD             2\n",
              "128GB SSD +  2TB HDD               2\n",
              "256GB SSD +  256GB SSD             2\n",
              "512GB SSD +  256GB SSD             1\n",
              "512GB SSD +  512GB SSD             1\n",
              "64GB Flash Storage +  1TB HDD      1\n",
              "1TB HDD +  1TB HDD                 1\n",
              "32GB HDD                           1\n",
              "64GB SSD                           1\n",
              "128GB HDD                          1\n",
              "240GB SSD                          1\n",
              "8GB SSD                            1\n",
              "508GB Hybrid                       1\n",
              "1.0TB HDD                          1\n",
              "512GB SSD +  1.0TB Hybrid          1\n",
              "256GB SSD +  1.0TB Hybrid          1\n",
              "Name: count, dtype: int64"
            ]
          },
          "execution_count": 38,
          "metadata": {},
          "output_type": "execute_result"
        }
      ],
      "source": [
        "df.Memory.value_counts()"
      ]
    },
    {
      "attachments": {},
      "cell_type": "markdown",
      "metadata": {},
      "source": [
        "We can see that we have a lot of different types of values. But the main divisons are SSD, HDD, Flash Storage and Hybrid. So we have to apply pre-processing here, but if we carefully see that one of them has **1.0TB** which is very tedious for further operations, hence we will replace that with an empty string\n",
        "\n",
        " In this case, the value to be replaced is '\\.0', which is a regular expression that matches a decimal point followed by a zero. The value to replace it with is an empty string, ''. The regex=True argument indicates that we are using a regular expression to perform the replacement."
      ]
    },
    {
      "cell_type": "code",
      "execution_count": 39,
      "metadata": {},
      "outputs": [],
      "source": [
        "df.Memory = df['Memory'].astype(str).replace('\\0.', \"\", regex = True)"
      ]
    },
    {
      "attachments": {},
      "cell_type": "markdown",
      "metadata": {},
      "source": [
        "Below we just replaced GB with an empty string, and correspondingly TB with 000 (TB = 1000x GB)"
      ]
    },
    {
      "cell_type": "code",
      "execution_count": 40,
      "metadata": {},
      "outputs": [],
      "source": [
        "df.Memory = df['Memory'].str.replace('GB',\"\")\n",
        "df.Memory = df.Memory.str.replace('TB', '000')"
      ]
    },
    {
      "attachments": {},
      "cell_type": "markdown",
      "metadata": {},
      "source": [
        "Now we have a plus sign in between therefore we will split the column into two, on the basis of plus sign"
      ]
    },
    {
      "cell_type": "code",
      "execution_count": 41,
      "metadata": {},
      "outputs": [],
      "source": [
        "new = df['Memory'].str.split('+', n = 1, expand = True)\n",
        "df['First'] = new[0]\n",
        "df['First'] = df['First'].str.strip()"
      ]
    },
    {
      "cell_type": "code",
      "execution_count": 63,
      "metadata": {},
      "outputs": [],
      "source": [
        "df['second'] = new[1]\n"
      ]
    },
    {
      "attachments": {},
      "cell_type": "markdown",
      "metadata": {},
      "source": [
        "Now what we have is two seperate columns, first and second."
      ]
    },
    {
      "cell_type": "code",
      "execution_count": 64,
      "metadata": {},
      "outputs": [
        {
          "data": {
            "text/html": [
              "<div>\n",
              "<style scoped>\n",
              "    .dataframe tbody tr th:only-of-type {\n",
              "        vertical-align: middle;\n",
              "    }\n",
              "\n",
              "    .dataframe tbody tr th {\n",
              "        vertical-align: top;\n",
              "    }\n",
              "\n",
              "    .dataframe thead th {\n",
              "        text-align: right;\n",
              "    }\n",
              "</style>\n",
              "<table border=\"1\" class=\"dataframe\">\n",
              "  <thead>\n",
              "    <tr style=\"text-align: right;\">\n",
              "      <th></th>\n",
              "      <th>Company</th>\n",
              "      <th>TypeName</th>\n",
              "      <th>Ram</th>\n",
              "      <th>Memory</th>\n",
              "      <th>Gpu</th>\n",
              "      <th>OpSys</th>\n",
              "      <th>Weight</th>\n",
              "      <th>Price</th>\n",
              "      <th>Touchscreen</th>\n",
              "      <th>IPS</th>\n",
              "      <th>PPI</th>\n",
              "      <th>CPU Brand</th>\n",
              "      <th>First</th>\n",
              "      <th>second</th>\n",
              "    </tr>\n",
              "  </thead>\n",
              "  <tbody>\n",
              "    <tr>\n",
              "      <th>0</th>\n",
              "      <td>Apple</td>\n",
              "      <td>Ultrabook</td>\n",
              "      <td>8</td>\n",
              "      <td>128 SSD</td>\n",
              "      <td>Intel Iris Plus Graphics 640</td>\n",
              "      <td>macOS</td>\n",
              "      <td>1.37</td>\n",
              "      <td>71378.6832</td>\n",
              "      <td>0</td>\n",
              "      <td>1</td>\n",
              "      <td>226.983005</td>\n",
              "      <td>Intel Core i5</td>\n",
              "      <td>128 SSD</td>\n",
              "      <td>None</td>\n",
              "    </tr>\n",
              "    <tr>\n",
              "      <th>1</th>\n",
              "      <td>Apple</td>\n",
              "      <td>Ultrabook</td>\n",
              "      <td>8</td>\n",
              "      <td>128 Flash Storage</td>\n",
              "      <td>Intel HD Graphics 6000</td>\n",
              "      <td>macOS</td>\n",
              "      <td>1.34</td>\n",
              "      <td>47895.5232</td>\n",
              "      <td>0</td>\n",
              "      <td>0</td>\n",
              "      <td>127.677940</td>\n",
              "      <td>Intel Core i5</td>\n",
              "      <td>128 Flash Storage</td>\n",
              "      <td>None</td>\n",
              "    </tr>\n",
              "    <tr>\n",
              "      <th>2</th>\n",
              "      <td>HP</td>\n",
              "      <td>Notebook</td>\n",
              "      <td>8</td>\n",
              "      <td>256 SSD</td>\n",
              "      <td>Intel HD Graphics 620</td>\n",
              "      <td>No OS</td>\n",
              "      <td>1.86</td>\n",
              "      <td>30636.0000</td>\n",
              "      <td>0</td>\n",
              "      <td>0</td>\n",
              "      <td>141.211998</td>\n",
              "      <td>Intel Core i5</td>\n",
              "      <td>256 SSD</td>\n",
              "      <td>None</td>\n",
              "    </tr>\n",
              "    <tr>\n",
              "      <th>3</th>\n",
              "      <td>Apple</td>\n",
              "      <td>Ultrabook</td>\n",
              "      <td>16</td>\n",
              "      <td>512 SSD</td>\n",
              "      <td>AMD Radeon Pro 455</td>\n",
              "      <td>macOS</td>\n",
              "      <td>1.83</td>\n",
              "      <td>135195.3360</td>\n",
              "      <td>0</td>\n",
              "      <td>1</td>\n",
              "      <td>220.534624</td>\n",
              "      <td>Intel Core i7</td>\n",
              "      <td>512 SSD</td>\n",
              "      <td>None</td>\n",
              "    </tr>\n",
              "    <tr>\n",
              "      <th>4</th>\n",
              "      <td>Apple</td>\n",
              "      <td>Ultrabook</td>\n",
              "      <td>8</td>\n",
              "      <td>256 SSD</td>\n",
              "      <td>Intel Iris Plus Graphics 650</td>\n",
              "      <td>macOS</td>\n",
              "      <td>1.37</td>\n",
              "      <td>96095.8080</td>\n",
              "      <td>0</td>\n",
              "      <td>1</td>\n",
              "      <td>226.983005</td>\n",
              "      <td>Intel Core i5</td>\n",
              "      <td>256 SSD</td>\n",
              "      <td>None</td>\n",
              "    </tr>\n",
              "  </tbody>\n",
              "</table>\n",
              "</div>"
            ],
            "text/plain": [
              "  Company   TypeName  Ram             Memory                           Gpu   \n",
              "0   Apple  Ultrabook    8            128 SSD  Intel Iris Plus Graphics 640  \\\n",
              "1   Apple  Ultrabook    8  128 Flash Storage        Intel HD Graphics 6000   \n",
              "2      HP   Notebook    8            256 SSD         Intel HD Graphics 620   \n",
              "3   Apple  Ultrabook   16            512 SSD            AMD Radeon Pro 455   \n",
              "4   Apple  Ultrabook    8            256 SSD  Intel Iris Plus Graphics 650   \n",
              "\n",
              "   OpSys  Weight        Price  Touchscreen  IPS         PPI      CPU Brand   \n",
              "0  macOS    1.37   71378.6832            0    1  226.983005  Intel Core i5  \\\n",
              "1  macOS    1.34   47895.5232            0    0  127.677940  Intel Core i5   \n",
              "2  No OS    1.86   30636.0000            0    0  141.211998  Intel Core i5   \n",
              "3  macOS    1.83  135195.3360            0    1  220.534624  Intel Core i7   \n",
              "4  macOS    1.37   96095.8080            0    1  226.983005  Intel Core i5   \n",
              "\n",
              "               First second  \n",
              "0            128 SSD   None  \n",
              "1  128 Flash Storage   None  \n",
              "2            256 SSD   None  \n",
              "3            512 SSD   None  \n",
              "4            256 SSD   None  "
            ]
          },
          "execution_count": 64,
          "metadata": {},
          "output_type": "execute_result"
        }
      ],
      "source": []
    },
    {
      "cell_type": "code",
      "execution_count": null,
      "metadata": {},
      "outputs": [],
      "source": []
    },
    {
      "cell_type": "code",
      "execution_count": null,
      "metadata": {},
      "outputs": [],
      "source": []
    },
    {
      "cell_type": "code",
      "execution_count": null,
      "metadata": {},
      "outputs": [],
      "source": []
    },
    {
      "cell_type": "markdown",
      "metadata": {
        "id": "XlSljyXZzQJE"
      },
      "source": [
        "# Exploratory Data Analysis"
      ]
    },
    {
      "cell_type": "markdown",
      "metadata": {},
      "source": []
    },
    {
      "cell_type": "code",
      "execution_count": 42,
      "metadata": {
        "id": "AS61EY7Cy9Ik"
      },
      "outputs": [],
      "source": [
        "import seaborn as sns\n",
        "import matplotlib.pyplot as plt"
      ]
    },
    {
      "cell_type": "markdown",
      "metadata": {
        "id": "T2PGolTYznvM"
      },
      "source": [
        "Now we will perform Univariate Analysis on our data.\n",
        "\n",
        "histplot is a function in the seaborn library used to plot a univariate distribution of observations. \n",
        "\n",
        "KDE is a way to estimate the probability distribution function of our continuous random variable (here price). Hence we superimposed it on our histogram to get a good idea.\n",
        "\n"
      ]
    },
    {
      "cell_type": "code",
      "execution_count": 43,
      "metadata": {
        "colab": {
          "base_uri": "https://localhost:8080/",
          "height": 471
        },
        "id": "V2KPs1JkzaYr",
        "outputId": "31b069d5-2035-4d94-da11-40882b3d65d0"
      },
      "outputs": [
        {
          "data": {
            "text/plain": [
              "<AxesSubplot: xlabel='Price', ylabel='Count'>"
            ]
          },
          "execution_count": 43,
          "metadata": {},
          "output_type": "execute_result"
        },
        {
          "data": {
            "image/png": "[encoded data removed]",
            "text/plain": [
              "<Figure size 640x480 with 1 Axes>"
            ]
          },
          "metadata": {},
          "output_type": "display_data"
        }
      ],
      "source": [
        "sns.histplot(df.Price, kde =True, alpha = 0.5)"
      ]
    },
    {
      "cell_type": "markdown",
      "metadata": {
        "id": "w2WAm6hj0GDF"
      },
      "source": [
        "We can observe and conclude that the graph of price vs count is skewed.\n",
        "\n",
        "There are more number of laptops that are less expensive and a very few number of laptops that are more expensive"
      ]
    },
    {
      "cell_type": "code",
      "execution_count": 44,
      "metadata": {
        "colab": {
          "base_uri": "https://localhost:8080/",
          "height": 505
        },
        "id": "E3lPPiPPz6v4",
        "outputId": "ba54e765-5f60-4c95-d695-6a276cb3396b"
      },
      "outputs": [
        {
          "data": {
            "text/plain": [
              "<AxesSubplot: xlabel='Company'>"
            ]
          },
          "execution_count": 44,
          "metadata": {},
          "output_type": "execute_result"
        },
        {
          "data": {
            "image/png": "[encoded data removed]",
            "text/plain": [
              "<Figure size 640x480 with 1 Axes>"
            ]
          },
          "metadata": {},
          "output_type": "display_data"
        }
      ],
      "source": [
        "df['Company'].value_counts().plot(kind = 'bar')"
      ]
    },
    {
      "cell_type": "markdown",
      "metadata": {
        "id": "fpK1axsB004-"
      },
      "source": [
        "Here we get an overview of how many laptops are for each respective company in our data.\n",
        "\n",
        "We called the .value_counts() method is used to count the number of occurrences of each unique value in a Series. \n",
        "\n",
        "*We plotted that against the company column of our DataFrame.*"
      ]
    },
    {
      "cell_type": "code",
      "execution_count": 45,
      "metadata": {
        "colab": {
          "base_uri": "https://localhost:8080/",
          "height": 507
        },
        "id": "AkF8OaUU0wEN",
        "outputId": "1b134f1e-66e8-4dc0-be3f-7de7091082b9"
      },
      "outputs": [
        {
          "data": {
            "image/png": "[encoded data removed]",
            "text/plain": [
              "<Figure size 640x480 with 1 Axes>"
            ]
          },
          "metadata": {},
          "output_type": "display_data"
        }
      ],
      "source": [
        "sns.barplot(x = df.Company, y = df.Price)\n",
        "plt.xticks( rotation = 'vertical')\n",
        "plt.show()"
      ]
    },
    {
      "cell_type": "markdown",
      "metadata": {
        "id": "pAijqq29y7ML"
      },
      "source": [
        "Now, our class label is price, hence it is a good practice to analyse each column's significance/ability to help us predict us the class label, or is the attribute useful or relevent in predicting price?\n",
        "\n",
        "To check this, we plotted the Companies v/s their price\n",
        "Hence we can see that some companies are too much expensive while others are in the midrange segment, hence it is a useful feature."
      ]
    },
    {
      "cell_type": "code",
      "execution_count": 46,
      "metadata": {
        "colab": {
          "base_uri": "https://localhost:8080/",
          "height": 557
        },
        "id": "H8KXQKYb0UKN",
        "outputId": "ace3da47-0a27-4edb-957d-6d146a6ff671"
      },
      "outputs": [
        {
          "data": {
            "text/plain": [
              "<AxesSubplot: xlabel='TypeName'>"
            ]
          },
          "execution_count": 46,
          "metadata": {},
          "output_type": "execute_result"
        },
        {
          "data": {
            "image/png": "[encoded data removed]",
            "text/plain": [
              "<Figure size 640x480 with 1 Axes>"
            ]
          },
          "metadata": {},
          "output_type": "display_data"
        }
      ],
      "source": [
        "df['TypeName'].value_counts().plot(kind = 'bar')"
      ]
    },
    {
      "cell_type": "markdown",
      "metadata": {
        "id": "Ivr41dUmRG9z"
      },
      "source": [
        "Similarly, we check the the occurancy of the type of Laptops.\n",
        "We witness that mostly there are Notebooks."
      ]
    },
    {
      "cell_type": "code",
      "execution_count": 47,
      "metadata": {
        "colab": {
          "base_uri": "https://localhost:8080/",
          "height": 559
        },
        "id": "BDD4_3lbRChl",
        "outputId": "35c03fdd-6a5d-49aa-a4c9-b4b4e31e9855"
      },
      "outputs": [
        {
          "data": {
            "image/png": "[encoded data removed]",
            "text/plain": [
              "<Figure size 640x480 with 1 Axes>"
            ]
          },
          "metadata": {},
          "output_type": "display_data"
        }
      ],
      "source": [
        "sns.barplot(x = df.TypeName, y = df.Price)\n",
        "plt.xticks(rotation = 'vertical')\n",
        "plt.show()"
      ]
    },
    {
      "cell_type": "markdown",
      "metadata": {
        "id": "7h52171WSJGE"
      },
      "source": [
        "Here we can clearly notice that the type of the laptops have different prices alltogether hence they are going to help us determine our price"
      ]
    },
    {
      "cell_type": "code",
      "execution_count": 48,
      "metadata": {
        "colab": {
          "base_uri": "https://localhost:8080/",
          "height": 466
        },
        "id": "3q_ilt--ReY4",
        "outputId": "44e804f8-631b-45be-ef2a-8dd8ace536ef"
      },
      "outputs": [
        {
          "data": {
            "text/plain": [
              "\"sns.barplot(x = df.Inches,y =  df.Price)\\nplt.xticks(rotation = 'vertical')\\nplt.show()\""
            ]
          },
          "execution_count": 48,
          "metadata": {},
          "output_type": "execute_result"
        }
      ],
      "source": [
        "'''sns.barplot(x = df.Inches,y =  df.Price)\n",
        "plt.xticks(rotation = 'vertical')\n",
        "plt.show()'''"
      ]
    },
    {
      "cell_type": "markdown",
      "metadata": {
        "id": "HquPUvlUUUDi"
      },
      "source": [
        "Here, more or less the price is same for different inches, but the difference is not insignificant. We will have to take this feature into consideration."
      ]
    },
    {
      "cell_type": "code",
      "execution_count": 49,
      "metadata": {
        "colab": {
          "base_uri": "https://localhost:8080/",
          "height": 467
        },
        "id": "Jg17uGXdU5Lx",
        "outputId": "abc9f740-cbd6-4731-81bf-ef27fcf208e3"
      },
      "outputs": [
        {
          "data": {
            "text/plain": [
              "<AxesSubplot: xlabel='Inches', ylabel='Price'>"
            ]
          },
          "execution_count": 49,
          "metadata": {},
          "output_type": "execute_result"
        },
        {
          "data": {
            "image/png": "[encoded data removed]",
            "text/plain": [
              "<Figure size 640x480 with 1 Axes>"
            ]
          },
          "metadata": {},
          "output_type": "display_data"
        }
      ],
      "source": [
        "sns.scatterplot(x = df.Inches, y = df.Price)"
      ]
    },
    {
      "cell_type": "markdown",
      "metadata": {
        "id": "gIK3hhW9U413"
      },
      "source": [
        "We made an assumption that touchscreen laptops differ from the price than normal, and we can see the proof of so.\n",
        "\n",
        "Touchscreen laptops' mean price is higher significantly."
      ]
    },
    {
      "cell_type": "code",
      "execution_count": 50,
      "metadata": {
        "colab": {
          "base_uri": "https://localhost:8080/",
          "height": 467
        },
        "id": "aYzNavr2TGyK",
        "outputId": "1053546a-2e0c-42b1-e4de-d358d902e9b8"
      },
      "outputs": [
        {
          "data": {
            "text/plain": [
              "<AxesSubplot: xlabel='Touchscreen', ylabel='Price'>"
            ]
          },
          "execution_count": 50,
          "metadata": {},
          "output_type": "execute_result"
        },
        {
          "data": {
            "image/png": "[encoded data removed]",
            "text/plain": [
              "<Figure size 640x480 with 1 Axes>"
            ]
          },
          "metadata": {},
          "output_type": "display_data"
        }
      ],
      "source": [
        "sns.barplot(x = df['Touchscreen'], y = df.Price)"
      ]
    },
    {
      "cell_type": "code",
      "execution_count": 51,
      "metadata": {
        "colab": {
          "base_uri": "https://localhost:8080/",
          "height": 467
        },
        "id": "79Z52gDRZUni",
        "outputId": "a0c9c413-5946-44b4-8bb2-4ca77362de8f"
      },
      "outputs": [
        {
          "data": {
            "text/plain": [
              "<AxesSubplot: xlabel='IPS', ylabel='Price'>"
            ]
          },
          "execution_count": 51,
          "metadata": {},
          "output_type": "execute_result"
        },
        {
          "data": {
            "image/png": "[encoded data removed]",
            "text/plain": [
              "<Figure size 640x480 with 1 Axes>"
            ]
          },
          "metadata": {},
          "output_type": "display_data"
        }
      ],
      "source": [
        "sns.barplot(x = df.IPS, y = df.Price)"
      ]
    },
    {
      "cell_type": "code",
      "execution_count": 52,
      "metadata": {
        "colab": {
          "base_uri": "https://localhost:8080/",
          "height": 449
        },
        "id": "U8PVezcPaemh",
        "outputId": "64211cb4-fd7d-411f-f83e-594bf82cd962"
      },
      "outputs": [
        {
          "data": {
            "image/png": "[encoded data removed]",
            "text/plain": [
              "<Figure size 640x480 with 1 Axes>"
            ]
          },
          "metadata": {},
          "output_type": "display_data"
        }
      ],
      "source": [
        "sns.barplot(x = df.Touchscreen, y = df.Price, color = 'green')\n",
        "sns.barplot(x = df.IPS, y = df.Price, color = 'red', alpha = 0.5)\n",
        "plt.show()"
      ]
    },
    {
      "cell_type": "code",
      "execution_count": 53,
      "metadata": {},
      "outputs": [
        {
          "data": {
            "text/plain": [
              "<AxesSubplot: xlabel='CPU Brand', ylabel='Price'>"
            ]
          },
          "execution_count": 53,
          "metadata": {},
          "output_type": "execute_result"
        },
        {
          "data": {
            "image/png": "[encoded data removed]",
            "text/plain": [
              "<Figure size 640x480 with 1 Axes>"
            ]
          },
          "metadata": {},
          "output_type": "display_data"
        }
      ],
      "source": [
        "sns.barplot(x = df['CPU Brand'] , y = df.Price)"
      ]
    },
    {
      "attachments": {},
      "cell_type": "markdown",
      "metadata": {},
      "source": [
        "We can see that i7 is more expensive then others. Hence it is an important column."
      ]
    },
    {
      "cell_type": "code",
      "execution_count": 54,
      "metadata": {
        "id": "td2qIwZgcdbu"
      },
      "outputs": [
        {
          "data": {
            "text/plain": [
              "<AxesSubplot: xlabel='Ram'>"
            ]
          },
          "execution_count": 54,
          "metadata": {},
          "output_type": "execute_result"
        },
        {
          "data": {
            "image/png": "[encoded data removed]",
            "text/plain": [
              "<Figure size 640x480 with 1 Axes>"
            ]
          },
          "metadata": {},
          "output_type": "display_data"
        }
      ],
      "source": [
        "df.Ram.value_counts().plot(kind = 'bar')"
      ]
    },
    {
      "attachments": {},
      "cell_type": "markdown",
      "metadata": {},
      "source": [
        "We can see that maximum people buy 8GB ram laptops, followed by 4GB (People still buy budget laptops), 16gb and so on.\n",
        "Let us see if Ram contributes to the price or not"
      ]
    },
    {
      "cell_type": "code",
      "execution_count": 55,
      "metadata": {},
      "outputs": [
        {
          "data": {
            "text/plain": [
              "<AxesSubplot: xlabel='Ram', ylabel='Price'>"
            ]
          },
          "execution_count": 55,
          "metadata": {},
          "output_type": "execute_result"
        },
        {
          "data": {
            "image/png": "[encoded data removed]",
            "text/plain": [
              "<Figure size 640x480 with 1 Axes>"
            ]
          },
          "metadata": {},
          "output_type": "display_data"
        }
      ],
      "source": [
        "sns.barplot(x = df.Ram, y = df.Price)"
      ]
    },
    {
      "attachments": {},
      "cell_type": "markdown",
      "metadata": {},
      "source": [
        "We can clearly see that RAM of a laptop definetely determines the price and affects the price. This graph also shows the consistency of the data that higher ram means higher price."
      ]
    },
    {
      "cell_type": "code",
      "execution_count": null,
      "metadata": {},
      "outputs": [],
      "source": []
    },
    {
      "cell_type": "code",
      "execution_count": null,
      "metadata": {},
      "outputs": [],
      "source": []
    },
    {
      "cell_type": "markdown",
      "metadata": {
        "id": "olc_ampaQ8RQ"
      },
      "source": [
        "# Descriptive Statistics\n"
      ]
    },
    {
      "cell_type": "code",
      "execution_count": null,
      "metadata": {},
      "outputs": [],
      "source": []
    },
    {
      "cell_type": "markdown",
      "metadata": {},
      "source": []
    }
  ],
  "metadata": {
    "colab": {
      "provenance": []
    },
    "kernelspec": {
      "display_name": "Python 3",
      "name": "python3"
    },
    "language_info": {
      "codemirror_mode": {
        "name": "ipython",
        "version": 3
      },
      "file_extension": ".py",
      "mimetype": "text/x-python",
      "name": "python",
      "nbconvert_exporter": "python",
      "pygments_lexer": "ipython3",
      "version": "3.10.11"
    }
  },
  "nbformat": 4,
  "nbformat_minor": 0
}
